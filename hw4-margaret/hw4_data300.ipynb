{
 "cells": [
  {
   "cell_type": "markdown",
   "id": "33dc4ed5",
   "metadata": {},
   "source": [
    "# Name: Margaret Nguyen \n",
    "\n",
    "# Data 300: HW4\n",
    "\n",
    "**For this assignment you will be comparing the performance of two classification models on the same data set. Before you fit and evaluate any models, you are going to create samples of the data based on the sampling techniques we learnt in class. We will be using the data set from HW 3 [found here](https://github.com/KennedyOdongo/DATA-300-Statistical-Machine-Learning-Fall-2023-/blob/main/Data/loan_default_data_set.csv).**"
   ]
  },
  {
   "cell_type": "code",
   "execution_count": 172,
   "id": "70272901",
   "metadata": {},
   "outputs": [],
   "source": [
    "# Import modules\n",
    "import pandas as pd # v 1.4.4\n",
    "import numpy as np # v 1.21.5\n",
    "from sklearn.utils import resample # v 1.0.2\n",
    "from imblearn.over_sampling import SMOTE # v 0.0\n",
    "import warnings\n",
    "from sklearn.exceptions import ConvergenceWarning # v 1.0.2\n",
    "\n",
    "# Imputing missing values\n",
    "from sklearn.impute import SimpleImputer # v 1.0.2\n",
    "\n",
    "# Regression\n",
    "from sklearn.linear_model import LogisticRegression # v 1.0.2\n",
    "from sklearn.discriminant_analysis import LinearDiscriminantAnalysis # v 1.0.2\n",
    "from sklearn.model_selection import train_test_split # v 1.0.2\n",
    "from sklearn.metrics import confusion_matrix # v 1.0.2\n",
    "from sklearn.metrics import roc_curve, roc_auc_score # v 1.0.2\n",
    "from sklearn.metrics import accuracy_score, precision_score, recall_score, classification_report # v 1.0.2\n",
    "\n",
    "# Ploting libraries \n",
    "import matplotlib.pyplot as plt # v 3.5.2\n",
    "import seaborn as sns # v. 0.11.2\n",
    "import scikitplot as skplt # v. 0.3.7\n",
    "\n",
    "# Display any generated plots or visualizations directly in the notebook interface\n",
    "%matplotlib inline "
   ]
  },
  {
   "cell_type": "markdown",
   "id": "c1b95693",
   "metadata": {},
   "source": [
    "## Load dataset"
   ]
  },
  {
   "cell_type": "code",
   "execution_count": 173,
   "id": "5d2d6753",
   "metadata": {},
   "outputs": [
    {
     "data": {
      "text/html": [
       "<div>\n",
       "<style scoped>\n",
       "    .dataframe tbody tr th:only-of-type {\n",
       "        vertical-align: middle;\n",
       "    }\n",
       "\n",
       "    .dataframe tbody tr th {\n",
       "        vertical-align: top;\n",
       "    }\n",
       "\n",
       "    .dataframe thead th {\n",
       "        text-align: right;\n",
       "    }\n",
       "</style>\n",
       "<table border=\"1\" class=\"dataframe\">\n",
       "  <thead>\n",
       "    <tr style=\"text-align: right;\">\n",
       "      <th></th>\n",
       "      <th>tot_balance</th>\n",
       "      <th>avg_bal_cards</th>\n",
       "      <th>credit_age</th>\n",
       "      <th>credit_age_good_account</th>\n",
       "      <th>credit_card_age</th>\n",
       "      <th>num_acc_30d_past_due_12_months</th>\n",
       "      <th>num_acc_30d_past_due_6_months</th>\n",
       "      <th>num_mortgage_currently_past_due</th>\n",
       "      <th>tot_amount_currently_past_due</th>\n",
       "      <th>num_inq_12_month</th>\n",
       "      <th>...</th>\n",
       "      <th>num_card_12_month</th>\n",
       "      <th>num_auto_ 36_month</th>\n",
       "      <th>uti_open_card</th>\n",
       "      <th>pct_over_50_uti</th>\n",
       "      <th>uti_max_credit_line</th>\n",
       "      <th>pct_card_over_50_uti</th>\n",
       "      <th>ind_XYZ</th>\n",
       "      <th>rep_income</th>\n",
       "      <th>rep_education</th>\n",
       "      <th>Def_ind</th>\n",
       "    </tr>\n",
       "  </thead>\n",
       "  <tbody>\n",
       "    <tr>\n",
       "      <th>0</th>\n",
       "      <td>102956.1101</td>\n",
       "      <td>14819.05740</td>\n",
       "      <td>238</td>\n",
       "      <td>104</td>\n",
       "      <td>264</td>\n",
       "      <td>0</td>\n",
       "      <td>0</td>\n",
       "      <td>0</td>\n",
       "      <td>0.0</td>\n",
       "      <td>0</td>\n",
       "      <td>...</td>\n",
       "      <td>1</td>\n",
       "      <td>0</td>\n",
       "      <td>0.366737</td>\n",
       "      <td>0.342183</td>\n",
       "      <td>0.513934</td>\n",
       "      <td>0.550866</td>\n",
       "      <td>0</td>\n",
       "      <td>118266.32130</td>\n",
       "      <td>college</td>\n",
       "      <td>0</td>\n",
       "    </tr>\n",
       "    <tr>\n",
       "      <th>1</th>\n",
       "      <td>132758.7258</td>\n",
       "      <td>18951.93455</td>\n",
       "      <td>384</td>\n",
       "      <td>197</td>\n",
       "      <td>371</td>\n",
       "      <td>0</td>\n",
       "      <td>0</td>\n",
       "      <td>0</td>\n",
       "      <td>0.0</td>\n",
       "      <td>0</td>\n",
       "      <td>...</td>\n",
       "      <td>0</td>\n",
       "      <td>0</td>\n",
       "      <td>0.490809</td>\n",
       "      <td>0.540671</td>\n",
       "      <td>0.418016</td>\n",
       "      <td>NaN</td>\n",
       "      <td>0</td>\n",
       "      <td>89365.05765</td>\n",
       "      <td>college</td>\n",
       "      <td>0</td>\n",
       "    </tr>\n",
       "    <tr>\n",
       "      <th>2</th>\n",
       "      <td>124658.9174</td>\n",
       "      <td>15347.92969</td>\n",
       "      <td>277</td>\n",
       "      <td>110</td>\n",
       "      <td>288</td>\n",
       "      <td>0</td>\n",
       "      <td>0</td>\n",
       "      <td>0</td>\n",
       "      <td>0.0</td>\n",
       "      <td>0</td>\n",
       "      <td>...</td>\n",
       "      <td>0</td>\n",
       "      <td>0</td>\n",
       "      <td>0.359074</td>\n",
       "      <td>0.338560</td>\n",
       "      <td>0.341627</td>\n",
       "      <td>0.451417</td>\n",
       "      <td>0</td>\n",
       "      <td>201365.12130</td>\n",
       "      <td>college</td>\n",
       "      <td>0</td>\n",
       "    </tr>\n",
       "    <tr>\n",
       "      <th>3</th>\n",
       "      <td>133968.5369</td>\n",
       "      <td>14050.71334</td>\n",
       "      <td>375</td>\n",
       "      <td>224</td>\n",
       "      <td>343</td>\n",
       "      <td>0</td>\n",
       "      <td>0</td>\n",
       "      <td>0</td>\n",
       "      <td>0.0</td>\n",
       "      <td>2</td>\n",
       "      <td>...</td>\n",
       "      <td>1</td>\n",
       "      <td>0</td>\n",
       "      <td>0.700379</td>\n",
       "      <td>0.683589</td>\n",
       "      <td>0.542940</td>\n",
       "      <td>0.607843</td>\n",
       "      <td>0</td>\n",
       "      <td>191794.48550</td>\n",
       "      <td>college</td>\n",
       "      <td>0</td>\n",
       "    </tr>\n",
       "    <tr>\n",
       "      <th>4</th>\n",
       "      <td>143601.8017</td>\n",
       "      <td>14858.51527</td>\n",
       "      <td>374</td>\n",
       "      <td>155</td>\n",
       "      <td>278</td>\n",
       "      <td>0</td>\n",
       "      <td>0</td>\n",
       "      <td>0</td>\n",
       "      <td>0.0</td>\n",
       "      <td>0</td>\n",
       "      <td>...</td>\n",
       "      <td>0</td>\n",
       "      <td>0</td>\n",
       "      <td>0.647351</td>\n",
       "      <td>0.510812</td>\n",
       "      <td>0.632934</td>\n",
       "      <td>0.573680</td>\n",
       "      <td>0</td>\n",
       "      <td>161465.36790</td>\n",
       "      <td>graduate</td>\n",
       "      <td>0</td>\n",
       "    </tr>\n",
       "  </tbody>\n",
       "</table>\n",
       "<p>5 rows × 21 columns</p>\n",
       "</div>"
      ],
      "text/plain": [
       "   tot_balance  avg_bal_cards  credit_age  credit_age_good_account  \\\n",
       "0  102956.1101    14819.05740         238                      104   \n",
       "1  132758.7258    18951.93455         384                      197   \n",
       "2  124658.9174    15347.92969         277                      110   \n",
       "3  133968.5369    14050.71334         375                      224   \n",
       "4  143601.8017    14858.51527         374                      155   \n",
       "\n",
       "   credit_card_age  num_acc_30d_past_due_12_months  \\\n",
       "0              264                               0   \n",
       "1              371                               0   \n",
       "2              288                               0   \n",
       "3              343                               0   \n",
       "4              278                               0   \n",
       "\n",
       "   num_acc_30d_past_due_6_months  num_mortgage_currently_past_due  \\\n",
       "0                              0                                0   \n",
       "1                              0                                0   \n",
       "2                              0                                0   \n",
       "3                              0                                0   \n",
       "4                              0                                0   \n",
       "\n",
       "   tot_amount_currently_past_due  num_inq_12_month  ...  num_card_12_month  \\\n",
       "0                            0.0                 0  ...                  1   \n",
       "1                            0.0                 0  ...                  0   \n",
       "2                            0.0                 0  ...                  0   \n",
       "3                            0.0                 2  ...                  1   \n",
       "4                            0.0                 0  ...                  0   \n",
       "\n",
       "   num_auto_ 36_month  uti_open_card  pct_over_50_uti  uti_max_credit_line  \\\n",
       "0                   0       0.366737         0.342183             0.513934   \n",
       "1                   0       0.490809         0.540671             0.418016   \n",
       "2                   0       0.359074         0.338560             0.341627   \n",
       "3                   0       0.700379         0.683589             0.542940   \n",
       "4                   0       0.647351         0.510812             0.632934   \n",
       "\n",
       "   pct_card_over_50_uti  ind_XYZ    rep_income  rep_education Def_ind  \n",
       "0              0.550866        0  118266.32130        college       0  \n",
       "1                   NaN        0   89365.05765        college       0  \n",
       "2              0.451417        0  201365.12130        college       0  \n",
       "3              0.607843        0  191794.48550        college       0  \n",
       "4              0.573680        0  161465.36790       graduate       0  \n",
       "\n",
       "[5 rows x 21 columns]"
      ]
     },
     "execution_count": 173,
     "metadata": {},
     "output_type": "execute_result"
    }
   ],
   "source": [
    "# Load dataset\n",
    "df_loan = pd.read_csv('/Users/margaret06/Documents/GitHub/hw4-margaret/data/loan_default_data_set.csv')\n",
    "\n",
    "# Show dataframe\n",
    "df_loan.head()"
   ]
  },
  {
   "cell_type": "markdown",
   "id": "cc70ddee",
   "metadata": {},
   "source": [
    "## Exploratory Data Analysis (EDA)"
   ]
  },
  {
   "cell_type": "code",
   "execution_count": 174,
   "id": "1775d0f9",
   "metadata": {},
   "outputs": [
    {
     "data": {
      "text/plain": [
       "((20000, 21),\n",
       " Index(['tot_balance', 'avg_bal_cards', 'credit_age', 'credit_age_good_account',\n",
       "        'credit_card_age', 'num_acc_30d_past_due_12_months',\n",
       "        'num_acc_30d_past_due_6_months', 'num_mortgage_currently_past_due',\n",
       "        'tot_amount_currently_past_due', 'num_inq_12_month',\n",
       "        'num_card_inq_24_month', 'num_card_12_month', 'num_auto_ 36_month',\n",
       "        'uti_open_card', 'pct_over_50_uti', 'uti_max_credit_line',\n",
       "        'pct_card_over_50_uti', 'ind_XYZ', 'rep_income', 'rep_education',\n",
       "        'Def_ind'],\n",
       "       dtype='object'),\n",
       " tot_balance                        float64\n",
       " avg_bal_cards                      float64\n",
       " credit_age                           int64\n",
       " credit_age_good_account              int64\n",
       " credit_card_age                      int64\n",
       " num_acc_30d_past_due_12_months       int64\n",
       " num_acc_30d_past_due_6_months        int64\n",
       " num_mortgage_currently_past_due      int64\n",
       " tot_amount_currently_past_due      float64\n",
       " num_inq_12_month                     int64\n",
       " num_card_inq_24_month                int64\n",
       " num_card_12_month                    int64\n",
       " num_auto_ 36_month                   int64\n",
       " uti_open_card                      float64\n",
       " pct_over_50_uti                    float64\n",
       " uti_max_credit_line                float64\n",
       " pct_card_over_50_uti               float64\n",
       " ind_XYZ                              int64\n",
       " rep_income                         float64\n",
       " rep_education                       object\n",
       " Def_ind                              int64\n",
       " dtype: object)"
      ]
     },
     "execution_count": 174,
     "metadata": {},
     "output_type": "execute_result"
    }
   ],
   "source": [
    "df_loan.shape, df_loan.columns, df_loan.dtypes"
   ]
  },
  {
   "cell_type": "code",
   "execution_count": 175,
   "id": "de278bf9",
   "metadata": {},
   "outputs": [
    {
     "data": {
      "text/plain": [
       "tot_balance                           0\n",
       "avg_bal_cards                         0\n",
       "credit_age                            0\n",
       "credit_age_good_account               0\n",
       "credit_card_age                       0\n",
       "num_acc_30d_past_due_12_months        0\n",
       "num_acc_30d_past_due_6_months         0\n",
       "num_mortgage_currently_past_due       0\n",
       "tot_amount_currently_past_due         0\n",
       "num_inq_12_month                      0\n",
       "num_card_inq_24_month                 0\n",
       "num_card_12_month                     0\n",
       "num_auto_ 36_month                    0\n",
       "uti_open_card                         0\n",
       "pct_over_50_uti                       0\n",
       "uti_max_credit_line                   0\n",
       "pct_card_over_50_uti               1958\n",
       "ind_XYZ                               0\n",
       "rep_income                         1559\n",
       "rep_education                         1\n",
       "Def_ind                               0\n",
       "dtype: int64"
      ]
     },
     "execution_count": 175,
     "metadata": {},
     "output_type": "execute_result"
    }
   ],
   "source": [
    "# Show a summary of the number of missing values (NaN or null) in each column of the df_loan DataFrame.\n",
    "df_loan.isna().sum()"
   ]
  },
  {
   "cell_type": "markdown",
   "id": "017d2ba4",
   "metadata": {},
   "source": [
    "**The variables containing missing values are 'pct_card_over_50_uti,' 'rep_income,' and 'rep_education.' For this homework, I will impute the most frequent value for a missing value in 'rep_education' (categorical values) and impute missing values with the mean of the corresponding feature across samples where they are defined.**"
   ]
  },
  {
   "cell_type": "code",
   "execution_count": 176,
   "id": "dee34dbe",
   "metadata": {},
   "outputs": [],
   "source": [
    "# Imputer for categorical column \n",
    "categorical_imputer = SimpleImputer(strategy='most_frequent')\n",
    "df_loan['rep_education'] = categorical_imputer.fit_transform(df_loan['rep_education'].values.reshape(-1, 1))"
   ]
  },
  {
   "cell_type": "code",
   "execution_count": 177,
   "id": "e2fa03da",
   "metadata": {},
   "outputs": [],
   "source": [
    "# Imputer for numerical columns (using mean strategy)\n",
    "numeric_imputer = SimpleImputer(strategy='mean')\n",
    "df_loan['pct_card_over_50_uti'] = numeric_imputer.fit_transform(df_loan[['pct_card_over_50_uti']])\n",
    "df_loan['rep_income'] = numeric_imputer.fit_transform(df_loan[['rep_income']])"
   ]
  },
  {
   "cell_type": "code",
   "execution_count": 178,
   "id": "108ee780",
   "metadata": {},
   "outputs": [
    {
     "data": {
      "text/plain": [
       "tot_balance                        0\n",
       "avg_bal_cards                      0\n",
       "credit_age                         0\n",
       "credit_age_good_account            0\n",
       "credit_card_age                    0\n",
       "num_acc_30d_past_due_12_months     0\n",
       "num_acc_30d_past_due_6_months      0\n",
       "num_mortgage_currently_past_due    0\n",
       "tot_amount_currently_past_due      0\n",
       "num_inq_12_month                   0\n",
       "num_card_inq_24_month              0\n",
       "num_card_12_month                  0\n",
       "num_auto_ 36_month                 0\n",
       "uti_open_card                      0\n",
       "pct_over_50_uti                    0\n",
       "uti_max_credit_line                0\n",
       "pct_card_over_50_uti               0\n",
       "ind_XYZ                            0\n",
       "rep_income                         0\n",
       "rep_education                      0\n",
       "Def_ind                            0\n",
       "dtype: int64"
      ]
     },
     "execution_count": 178,
     "metadata": {},
     "output_type": "execute_result"
    }
   ],
   "source": [
    "# Check the result after imputing\n",
    "df_loan.isna().sum()"
   ]
  },
  {
   "cell_type": "code",
   "execution_count": 179,
   "id": "b6c3d6e7",
   "metadata": {},
   "outputs": [
    {
     "data": {
      "text/html": [
       "<div>\n",
       "<style scoped>\n",
       "    .dataframe tbody tr th:only-of-type {\n",
       "        vertical-align: middle;\n",
       "    }\n",
       "\n",
       "    .dataframe tbody tr th {\n",
       "        vertical-align: top;\n",
       "    }\n",
       "\n",
       "    .dataframe thead th {\n",
       "        text-align: right;\n",
       "    }\n",
       "</style>\n",
       "<table border=\"1\" class=\"dataframe\">\n",
       "  <thead>\n",
       "    <tr style=\"text-align: right;\">\n",
       "      <th></th>\n",
       "      <th>tot_balance</th>\n",
       "      <th>avg_bal_cards</th>\n",
       "      <th>credit_age</th>\n",
       "      <th>credit_age_good_account</th>\n",
       "      <th>credit_card_age</th>\n",
       "      <th>num_acc_30d_past_due_12_months</th>\n",
       "      <th>num_acc_30d_past_due_6_months</th>\n",
       "      <th>num_mortgage_currently_past_due</th>\n",
       "      <th>tot_amount_currently_past_due</th>\n",
       "      <th>num_inq_12_month</th>\n",
       "      <th>...</th>\n",
       "      <th>num_card_12_month</th>\n",
       "      <th>num_auto_ 36_month</th>\n",
       "      <th>uti_open_card</th>\n",
       "      <th>pct_over_50_uti</th>\n",
       "      <th>uti_max_credit_line</th>\n",
       "      <th>pct_card_over_50_uti</th>\n",
       "      <th>ind_XYZ</th>\n",
       "      <th>rep_income</th>\n",
       "      <th>rep_education</th>\n",
       "      <th>Def_ind</th>\n",
       "    </tr>\n",
       "  </thead>\n",
       "  <tbody>\n",
       "    <tr>\n",
       "      <th>6522</th>\n",
       "      <td>0.0</td>\n",
       "      <td>4736.516393</td>\n",
       "      <td>377</td>\n",
       "      <td>165</td>\n",
       "      <td>340</td>\n",
       "      <td>0</td>\n",
       "      <td>0</td>\n",
       "      <td>0</td>\n",
       "      <td>0.0</td>\n",
       "      <td>0</td>\n",
       "      <td>...</td>\n",
       "      <td>0</td>\n",
       "      <td>0</td>\n",
       "      <td>0.45004</td>\n",
       "      <td>0.435943</td>\n",
       "      <td>0.311827</td>\n",
       "      <td>0.53592</td>\n",
       "      <td>0</td>\n",
       "      <td>229338.8875</td>\n",
       "      <td>college</td>\n",
       "      <td>0</td>\n",
       "    </tr>\n",
       "  </tbody>\n",
       "</table>\n",
       "<p>1 rows × 21 columns</p>\n",
       "</div>"
      ],
      "text/plain": [
       "      tot_balance  avg_bal_cards  credit_age  credit_age_good_account  \\\n",
       "6522          0.0    4736.516393         377                      165   \n",
       "\n",
       "      credit_card_age  num_acc_30d_past_due_12_months  \\\n",
       "6522              340                               0   \n",
       "\n",
       "      num_acc_30d_past_due_6_months  num_mortgage_currently_past_due  \\\n",
       "6522                              0                                0   \n",
       "\n",
       "      tot_amount_currently_past_due  num_inq_12_month  ...  num_card_12_month  \\\n",
       "6522                            0.0                 0  ...                  0   \n",
       "\n",
       "      num_auto_ 36_month  uti_open_card  pct_over_50_uti  uti_max_credit_line  \\\n",
       "6522                   0        0.45004         0.435943             0.311827   \n",
       "\n",
       "      pct_card_over_50_uti  ind_XYZ   rep_income  rep_education Def_ind  \n",
       "6522               0.53592        0  229338.8875        college       0  \n",
       "\n",
       "[1 rows x 21 columns]"
      ]
     },
     "execution_count": 179,
     "metadata": {},
     "output_type": "execute_result"
    }
   ],
   "source": [
    "# Check for inaccurate information\n",
    "df_loan[df_loan['tot_balance'] < df_loan['avg_bal_cards']]"
   ]
  },
  {
   "cell_type": "code",
   "execution_count": 180,
   "id": "f0a31286",
   "metadata": {},
   "outputs": [
    {
     "data": {
      "text/html": [
       "<div>\n",
       "<style scoped>\n",
       "    .dataframe tbody tr th:only-of-type {\n",
       "        vertical-align: middle;\n",
       "    }\n",
       "\n",
       "    .dataframe tbody tr th {\n",
       "        vertical-align: top;\n",
       "    }\n",
       "\n",
       "    .dataframe thead th {\n",
       "        text-align: right;\n",
       "    }\n",
       "</style>\n",
       "<table border=\"1\" class=\"dataframe\">\n",
       "  <thead>\n",
       "    <tr style=\"text-align: right;\">\n",
       "      <th></th>\n",
       "      <th>tot_balance</th>\n",
       "      <th>avg_bal_cards</th>\n",
       "      <th>credit_age</th>\n",
       "      <th>credit_age_good_account</th>\n",
       "      <th>credit_card_age</th>\n",
       "      <th>num_acc_30d_past_due_12_months</th>\n",
       "      <th>num_acc_30d_past_due_6_months</th>\n",
       "      <th>num_mortgage_currently_past_due</th>\n",
       "      <th>tot_amount_currently_past_due</th>\n",
       "      <th>num_inq_12_month</th>\n",
       "      <th>...</th>\n",
       "      <th>num_card_12_month</th>\n",
       "      <th>num_auto_ 36_month</th>\n",
       "      <th>uti_open_card</th>\n",
       "      <th>pct_over_50_uti</th>\n",
       "      <th>uti_max_credit_line</th>\n",
       "      <th>pct_card_over_50_uti</th>\n",
       "      <th>ind_XYZ</th>\n",
       "      <th>rep_income</th>\n",
       "      <th>rep_education</th>\n",
       "      <th>Def_ind</th>\n",
       "    </tr>\n",
       "  </thead>\n",
       "  <tbody>\n",
       "  </tbody>\n",
       "</table>\n",
       "<p>0 rows × 21 columns</p>\n",
       "</div>"
      ],
      "text/plain": [
       "Empty DataFrame\n",
       "Columns: [tot_balance, avg_bal_cards, credit_age, credit_age_good_account, credit_card_age, num_acc_30d_past_due_12_months, num_acc_30d_past_due_6_months, num_mortgage_currently_past_due, tot_amount_currently_past_due, num_inq_12_month, num_card_inq_24_month, num_card_12_month, num_auto_ 36_month, uti_open_card, pct_over_50_uti, uti_max_credit_line, pct_card_over_50_uti, ind_XYZ, rep_income, rep_education, Def_ind]\n",
       "Index: []\n",
       "\n",
       "[0 rows x 21 columns]"
      ]
     },
     "execution_count": 180,
     "metadata": {},
     "output_type": "execute_result"
    }
   ],
   "source": [
    "# Check for inaccurate information\n",
    "df_loan[df_loan['num_acc_30d_past_due_12_months'] < df_loan['num_acc_30d_past_due_6_months']]"
   ]
  },
  {
   "cell_type": "markdown",
   "id": "febf79da",
   "metadata": {},
   "source": [
    "**The noteworthy information here is that there exists a row (row 6522) in which 'num_acc_30d_past_due_12_months' is lower than 'num_acc_30d_past_due_6_months.' In theory, the count for 12 months should not be less than that for 6 months.**"
   ]
  },
  {
   "cell_type": "code",
   "execution_count": 181,
   "id": "d1aeceb9",
   "metadata": {},
   "outputs": [
    {
     "data": {
      "text/plain": [
       "0    0.9\n",
       "1    0.1\n",
       "Name: Def_ind, dtype: float64"
      ]
     },
     "execution_count": 181,
     "metadata": {},
     "output_type": "execute_result"
    }
   ],
   "source": [
    "# Check for the classes\n",
    "df_loan['Def_ind'].value_counts(normalize = True)"
   ]
  },
  {
   "cell_type": "markdown",
   "id": "2315b3dc",
   "metadata": {},
   "source": [
    "**The classes in Def_ind are imbalanced, with Def_ind == 1 being the minority.**"
   ]
  },
  {
   "cell_type": "code",
   "execution_count": 182,
   "id": "06ce4379",
   "metadata": {},
   "outputs": [
    {
     "name": "stdout",
     "output_type": "stream",
     "text": [
      "Index(['tot_balance', 'avg_bal_cards', 'credit_age', 'credit_age_good_account',\n",
      "       'credit_card_age', 'num_acc_30d_past_due_12_months',\n",
      "       'num_acc_30d_past_due_6_months', 'num_mortgage_currently_past_due',\n",
      "       'tot_amount_currently_past_due', 'num_inq_12_month',\n",
      "       'num_card_inq_24_month', 'num_card_12_month', 'num_auto_ 36_month',\n",
      "       'uti_open_card', 'pct_over_50_uti', 'uti_max_credit_line',\n",
      "       'pct_card_over_50_uti', 'ind_XYZ', 'rep_income', 'Def_ind',\n",
      "       'rep_graduate', 'rep_high_school', 'rep_other'],\n",
      "      dtype='object')\n"
     ]
    }
   ],
   "source": [
    "# Encode the rep_education column\n",
    "df_loan_dummies = pd.get_dummies(df_loan, columns=['rep_education'], prefix='rep', drop_first=True)\n",
    "\n",
    "# Print the columns names\n",
    "print(df_loan_dummies.columns)"
   ]
  },
  {
   "cell_type": "markdown",
   "id": "8533d475",
   "metadata": {},
   "source": [
    "1. Create three samples of the data:\n",
    "\n",
    "a. The first should be created by oversampling the minority class so that the number of observations of the minority and majority class are the same (18,000 for each class) and you have 36, 000 observations in total."
   ]
  },
  {
   "cell_type": "code",
   "execution_count": 183,
   "id": "8653b3c5",
   "metadata": {},
   "outputs": [
    {
     "data": {
      "text/plain": [
       "1    18000\n",
       "0    18000\n",
       "Name: Def_ind, dtype: int64"
      ]
     },
     "execution_count": 183,
     "metadata": {},
     "output_type": "execute_result"
    }
   ],
   "source": [
    "# Oversample the minority class which is Def_ind == 1\n",
    "def_major = df_loan_dummies[df_loan_dummies['Def_ind']==0]\n",
    "def_minor = df_loan_dummies[df_loan_dummies['Def_ind']==1]\n",
    "\n",
    "def_minor_oversampled = resample(def_minor, n_samples=16000, replace=True)\n",
    "df_loan_oversampled = pd.concat([def_minor_oversampled, def_minor, def_major])\n",
    "\n",
    "# Check the values\n",
    "df_loan_oversampled['Def_ind'].value_counts()"
   ]
  },
  {
   "cell_type": "markdown",
   "id": "27bd9262",
   "metadata": {},
   "source": [
    "b. The second should be created by undersampling the majority class (2000 observations for each class) and you have 4000 observations in total. "
   ]
  },
  {
   "cell_type": "code",
   "execution_count": 184,
   "id": "49c44265",
   "metadata": {},
   "outputs": [
    {
     "data": {
      "text/plain": [
       "0    2000\n",
       "1    2000\n",
       "Name: Def_ind, dtype: int64"
      ]
     },
     "execution_count": 184,
     "metadata": {},
     "output_type": "execute_result"
    }
   ],
   "source": [
    "# Undersample the majority class which is Def_ind == 0\n",
    "def_major_undersampled = resample(def_major, n_samples=2000, replace=True)\n",
    "df_loan_undersampled = pd.concat([def_major_undersampled, def_minor])\n",
    "\n",
    "# Check the values\n",
    "df_loan_undersampled['Def_ind'].value_counts()"
   ]
  },
  {
   "cell_type": "markdown",
   "id": "7dfe2474",
   "metadata": {},
   "source": [
    "c. Use [SMOTE](https://imbalanced-learn.org/stable/references/generated/imblearn.over_sampling.SMOTE.html) to create the third data set. This is also an oversampling technique."
   ]
  },
  {
   "cell_type": "code",
   "execution_count": 185,
   "id": "2c8e3467",
   "metadata": {},
   "outputs": [
    {
     "data": {
      "text/plain": [
       "0    18000\n",
       "1    18000\n",
       "Name: Def_ind, dtype: int64"
      ]
     },
     "execution_count": 185,
     "metadata": {},
     "output_type": "execute_result"
    }
   ],
   "source": [
    "# Set y as Def_ind and drop Def_ind from X\n",
    "y = df_loan_dummies[\"Def_ind\"]\n",
    "X = df_loan_dummies.drop(\"Def_ind\", axis=1)\n",
    "\n",
    "# Apply the SMOTE for oversampling technique\n",
    "X_res, y_res = SMOTE(sampling_strategy='auto').fit_resample(X, y)\n",
    "\n",
    "# Make it into dataframe after oversampling technique\n",
    "df_loan_smote = pd.DataFrame(X_res, columns=X.columns)\n",
    "df_loan_smote['Def_ind'] = y_res\n",
    "\n",
    "# Check the values\n",
    "df_loan_smote['Def_ind'].value_counts()"
   ]
  },
  {
   "cell_type": "markdown",
   "id": "8d8c3c32",
   "metadata": {},
   "source": [
    "2. Fit a Logistic regression and Linear Discriminant Analysis (LDA) on all three datasets so that you have 6 model objects. A model for each of the three datasets you have created by using different sampling techniques."
   ]
  },
  {
   "cell_type": "markdown",
   "id": "aeee2e54",
   "metadata": {},
   "source": [
    "### A. Oversampling Data\n",
    "\n",
    "**1. Logistic Regression**"
   ]
  },
  {
   "cell_type": "code",
   "execution_count": 186,
   "id": "2a2af285",
   "metadata": {},
   "outputs": [],
   "source": [
    "# Separate data set in Y (independent) and X (dependent) variable\n",
    "y_oversampled = df_loan_oversampled[\"Def_ind\"] \n",
    "X_oversampled = df_loan_oversampled.loc[:, df_loan_oversampled.columns != \"Def_ind\"] \n",
    "# All columns except the Def_ind column which is the dependent variable"
   ]
  },
  {
   "cell_type": "code",
   "execution_count": 187,
   "id": "f2bb32ef",
   "metadata": {},
   "outputs": [],
   "source": [
    "# Use the train_test_split function to split the loan data into training and testing set (80% vs 20%)\n",
    "X_train_oversampled, X_test_oversampled, y_train_oversampled, y_test_oversampled = train_test_split(X_oversampled, y_oversampled, test_size=0.2, random_state=5)"
   ]
  },
  {
   "cell_type": "code",
   "execution_count": 188,
   "id": "af478917",
   "metadata": {},
   "outputs": [],
   "source": [
    "# Instantiate the model\n",
    "over_logreg = LogisticRegression()\n",
    "\n",
    "# Fit the model\n",
    "over_logreg.fit(X_train_oversampled, y_train_oversampled)\n",
    "\n",
    "# Make predictions on the test set\n",
    "y_pred_oversampled = over_logreg.predict(X_test_oversampled)"
   ]
  },
  {
   "cell_type": "code",
   "execution_count": 189,
   "id": "8fc32be9",
   "metadata": {},
   "outputs": [
    {
     "name": "stdout",
     "output_type": "stream",
     "text": [
      "Accuracy of Oversampling Data in Logistic Regression: 0.6368055555555555\n",
      "Precision of Oversampling Data in Logistic Regression: 0.67012151536812\n",
      "Recall of Oversampling Data in Logistic Regression: 0.5256518082422204\n"
     ]
    }
   ],
   "source": [
    "# Calculate accuracy, precision, and recall\n",
    "accuracy = accuracy_score(y_test_oversampled, y_pred_oversampled)\n",
    "precision = precision_score(y_test_oversampled, y_pred_oversampled)\n",
    "recall = recall_score(y_test_oversampled, y_pred_oversampled)\n",
    "\n",
    "# Interpret the results\n",
    "print(\"Accuracy of Oversampling Data in Logistic Regression:\", accuracy)\n",
    "print(\"Precision of Oversampling Data in Logistic Regression:\", precision)\n",
    "print(\"Recall of Oversampling Data in Logistic Regression:\", recall)"
   ]
  },
  {
   "cell_type": "markdown",
   "id": "700b9ce9",
   "metadata": {},
   "source": [
    "**2. Linear Discriminant Analysis (LDA)**"
   ]
  },
  {
   "cell_type": "code",
   "execution_count": 190,
   "id": "e50030d0",
   "metadata": {},
   "outputs": [
    {
     "data": {
      "text/plain": [
       "LinearDiscriminantAnalysis()"
      ]
     },
     "execution_count": 190,
     "metadata": {},
     "output_type": "execute_result"
    }
   ],
   "source": [
    "# Create and fit the LDA model\n",
    "over_lda = LinearDiscriminantAnalysis()\n",
    "over_lda.fit(X_train_oversampled, y_train_oversampled)"
   ]
  },
  {
   "cell_type": "code",
   "execution_count": 191,
   "id": "959457da",
   "metadata": {},
   "outputs": [
    {
     "name": "stdout",
     "output_type": "stream",
     "text": [
      "Accuracy of Oversampling Data in LDA: 0.7176388888888889\n",
      "Precision (Weighted) of Oversampling Data in LDA: 0.7178560637403881\n",
      "Recall (Weighted) of Oversampling Data in LDA: 0.7176388888888889\n"
     ]
    }
   ],
   "source": [
    "# Make predictions on the test set\n",
    "y_pred_oversampled = over_lda.predict(X_test_oversampled)\n",
    "\n",
    "# Calculate accuracy\n",
    "accuracy = accuracy_score(y_test_oversampled, y_pred_oversampled)\n",
    "\n",
    "# Calculate precision with average='weighted'\n",
    "precision_weighted = precision_score(y_test_oversampled, y_pred_oversampled, average='weighted')\n",
    "\n",
    "# Calculate recall with average='weighted'\n",
    "recall_weighted = recall_score(y_test_oversampled, y_pred_oversampled, average='weighted')\n",
    "\n",
    "# Report the results\n",
    "print(f'Accuracy of Oversampling Data in LDA: {accuracy}')\n",
    "print(f'Precision (Weighted) of Oversampling Data in LDA: {precision_weighted}')\n",
    "print(f'Recall (Weighted) of Oversampling Data in LDA: {recall_weighted}')"
   ]
  },
  {
   "cell_type": "markdown",
   "id": "a26e88e4",
   "metadata": {},
   "source": [
    "### B. Undersampling Data\n",
    "\n",
    "**1. Logistic Regression**"
   ]
  },
  {
   "cell_type": "code",
   "execution_count": 192,
   "id": "88ccc611",
   "metadata": {},
   "outputs": [],
   "source": [
    "# Separate data set in Y (independent) and X (dependent) variable\n",
    "y_undersampled = df_loan_undersampled[\"Def_ind\"] \n",
    "X_undersampled = df_loan_undersampled.loc[:, df_loan_undersampled.columns != \"Def_ind\"] \n",
    "# All columns except the Def_ind column which is the dependent variable"
   ]
  },
  {
   "cell_type": "code",
   "execution_count": 193,
   "id": "2cd2e857",
   "metadata": {},
   "outputs": [],
   "source": [
    "# Use the train_test_split function to split the loan data into training and testing set (80% vs 20%)\n",
    "X_train_undersampled, X_test_undersampled, y_train_undersampled, y_test_undersampled = train_test_split(X_undersampled, y_undersampled, test_size=0.2, random_state=5)"
   ]
  },
  {
   "cell_type": "code",
   "execution_count": 194,
   "id": "b4a6e24b",
   "metadata": {},
   "outputs": [],
   "source": [
    "# Instantiate the model\n",
    "under_logreg = LogisticRegression()\n",
    "\n",
    "# Fit the model\n",
    "under_logreg.fit(X_train_undersampled, y_train_undersampled)\n",
    "\n",
    "# Make predictions on the test set\n",
    "y_pred_undersampled = under_logreg.predict(X_test_undersampled)"
   ]
  },
  {
   "cell_type": "code",
   "execution_count": 195,
   "id": "c4f6baef",
   "metadata": {},
   "outputs": [
    {
     "name": "stdout",
     "output_type": "stream",
     "text": [
      "Accuracy of Undersampling Data in Logistic Regression: 0.64125\n",
      "Precision of Undersampling Data in Logistic Regression: 0.7027027027027027\n",
      "Recall of Undersampling Data in Logistic Regression: 0.5110565110565111\n"
     ]
    }
   ],
   "source": [
    "# Calculate accuracy, precision, and recall\n",
    "accuracy = accuracy_score(y_test_undersampled, y_pred_undersampled)\n",
    "precision = precision_score(y_test_undersampled, y_pred_undersampled)\n",
    "recall = recall_score(y_test_undersampled, y_pred_undersampled)\n",
    "\n",
    "# Interpret the results\n",
    "print(\"Accuracy of Undersampling Data in Logistic Regression:\", accuracy)\n",
    "print(\"Precision of Undersampling Data in Logistic Regression:\", precision)\n",
    "print(\"Recall of Undersampling Data in Logistic Regression:\", recall)"
   ]
  },
  {
   "cell_type": "markdown",
   "id": "11b7eea7",
   "metadata": {},
   "source": [
    "**2. Linear Discriminant Analysis (LDA)**"
   ]
  },
  {
   "cell_type": "code",
   "execution_count": 196,
   "id": "4f5e22c3",
   "metadata": {},
   "outputs": [
    {
     "data": {
      "text/plain": [
       "LinearDiscriminantAnalysis()"
      ]
     },
     "execution_count": 196,
     "metadata": {},
     "output_type": "execute_result"
    }
   ],
   "source": [
    "# Create and fit the LDA model\n",
    "under_lda = LinearDiscriminantAnalysis()\n",
    "under_lda.fit(X_train_undersampled, y_train_undersampled)"
   ]
  },
  {
   "cell_type": "code",
   "execution_count": 197,
   "id": "bfd9df82",
   "metadata": {},
   "outputs": [
    {
     "name": "stdout",
     "output_type": "stream",
     "text": [
      "Accuracy of Undersampling Data in LDA: 0.74\n",
      "Precision (Weighted) of Undersampling Data in LDA: 0.7411390574224694\n",
      "Recall (Weighted) of Undersampling Data in LDA: 0.74\n"
     ]
    }
   ],
   "source": [
    "# Make predictions on the test set\n",
    "y_pred_undersampled = under_lda.predict(X_test_undersampled)\n",
    "\n",
    "# Calculate accuracy\n",
    "accuracy = accuracy_score(y_test_undersampled, y_pred_undersampled)\n",
    "\n",
    "# Calculate precision with average='weighted'\n",
    "precision_weighted = precision_score(y_test_undersampled, y_pred_undersampled, average='weighted')\n",
    "\n",
    "# Calculate recall with average='weighted'\n",
    "recall_weighted = recall_score(y_test_undersampled, y_pred_undersampled, average='weighted')\n",
    "\n",
    "# Report the results\n",
    "print(f'Accuracy of Undersampling Data in LDA: {accuracy}')\n",
    "print(f'Precision (Weighted) of Undersampling Data in LDA: {precision_weighted}')\n",
    "print(f'Recall (Weighted) of Undersampling Data in LDA: {recall_weighted}')"
   ]
  },
  {
   "cell_type": "markdown",
   "id": "0dca30d0",
   "metadata": {},
   "source": [
    "### C. SMOTE\n",
    "**1. Logistic Regression**"
   ]
  },
  {
   "cell_type": "code",
   "execution_count": 198,
   "id": "3c937fa2",
   "metadata": {},
   "outputs": [],
   "source": [
    "# Separate data set in Y (independent) and X (dependent) variable\n",
    "y_smote = df_loan_smote[\"Def_ind\"] \n",
    "X_smote = df_loan_smote.loc[:, df_loan_smote.columns != \"Def_ind\"] \n",
    "# All columns except the Def_ind column which is the dependent variable"
   ]
  },
  {
   "cell_type": "code",
   "execution_count": 199,
   "id": "3ee36146",
   "metadata": {},
   "outputs": [],
   "source": [
    "# Use the train_test_split function to split the loan data into training and testing set (80% vs 20%)\n",
    "X_train_smote, X_test_smote, y_train_smote, y_test_smote = train_test_split(X_smote, y_smote, test_size=0.2, random_state=5)"
   ]
  },
  {
   "cell_type": "code",
   "execution_count": 200,
   "id": "58937e32",
   "metadata": {},
   "outputs": [],
   "source": [
    "# Ignore ConvergenceWarnings\n",
    "warnings.filterwarnings(\"ignore\", category=ConvergenceWarning)\n",
    "\n",
    "# Instantiate the model\n",
    "smote_logreg = LogisticRegression()\n",
    "\n",
    "# Fit the model\n",
    "smote_logreg.fit(X_train_smote, y_train_smote)\n",
    "\n",
    "# Make predictions on the test set\n",
    "y_pred_smote = smote_logreg.predict(X_test_smote)"
   ]
  },
  {
   "cell_type": "code",
   "execution_count": 201,
   "id": "5dfd4257",
   "metadata": {},
   "outputs": [
    {
     "name": "stdout",
     "output_type": "stream",
     "text": [
      "Accuracy of SMOTE Data in Logistic Regression: 0.62625\n",
      "Precision of SMOTE Data in Logistic Regression: 0.6678346180798879\n",
      "Recall of SMOTE Data in Logistic Regression: 0.522334886270211\n"
     ]
    }
   ],
   "source": [
    "# Calculate accuracy, precision, and recall\n",
    "accuracy = accuracy_score(y_test_smote, y_pred_smote)\n",
    "precision = precision_score(y_test_smote, y_pred_smote)\n",
    "recall = recall_score(y_test_smote, y_pred_smote)\n",
    "\n",
    "# Interpret the results\n",
    "print(\"Accuracy of SMOTE Data in Logistic Regression:\", accuracy)\n",
    "print(\"Precision of SMOTE Data in Logistic Regression:\", precision)\n",
    "print(\"Recall of SMOTE Data in Logistic Regression:\", recall)"
   ]
  },
  {
   "cell_type": "markdown",
   "id": "35c6eeab",
   "metadata": {},
   "source": [
    "**2. Linear Discriminant Analysis (LDA)**"
   ]
  },
  {
   "cell_type": "code",
   "execution_count": 202,
   "id": "35a66f1f",
   "metadata": {},
   "outputs": [
    {
     "data": {
      "text/plain": [
       "LinearDiscriminantAnalysis()"
      ]
     },
     "execution_count": 202,
     "metadata": {},
     "output_type": "execute_result"
    }
   ],
   "source": [
    "# Create and fit the LDA model\n",
    "smote_lda = LinearDiscriminantAnalysis()\n",
    "smote_lda.fit(X_train_smote, y_train_smote)"
   ]
  },
  {
   "cell_type": "code",
   "execution_count": 203,
   "id": "7ac20e41",
   "metadata": {},
   "outputs": [
    {
     "name": "stdout",
     "output_type": "stream",
     "text": [
      "Accuracy of SMOTE Data in LDA: 0.7752777777777777\n",
      "Precision (Weighted) of SMOTE Data in LDA: 0.7764205172328215\n",
      "Recall (Weighted) of SMOTE Data in LDA: 0.7752777777777777\n"
     ]
    }
   ],
   "source": [
    "# Make predictions on the test set\n",
    "y_pred_smote = smote_lda.predict(X_test_smote)\n",
    "\n",
    "# Calculate accuracy\n",
    "accuracy = accuracy_score(y_test_smote, y_pred_smote)\n",
    "\n",
    "# Calculate precision with average='weighted'\n",
    "precision_weighted = precision_score(y_test_smote, y_pred_smote, average='weighted')\n",
    "\n",
    "# Calculate recall with average='weighted'\n",
    "recall_weighted = recall_score(y_test_smote, y_pred_smote, average='weighted')\n",
    "\n",
    "# Report the results\n",
    "print(f'Accuracy of SMOTE Data in LDA: {accuracy}')\n",
    "print(f'Precision (Weighted) of SMOTE Data in LDA: {precision_weighted}')\n",
    "print(f'Recall (Weighted) of SMOTE Data in LDA: {recall_weighted}')"
   ]
  },
  {
   "cell_type": "markdown",
   "id": "992f0615",
   "metadata": {},
   "source": [
    "3. Compare model performance on accuracy, recall, and precision. Report your findings."
   ]
  },
  {
   "cell_type": "markdown",
   "id": "416cf6ce",
   "metadata": {},
   "source": [
    "**The model that has the highest accuracy, recall, and precision scores is Linear Discriminant Analysis (LDA) with oversampled data in SMOTE, achieving a score of 0.77. Moreover, the LDA model outperforms Logistic Regression across datasets.**"
   ]
  },
  {
   "cell_type": "markdown",
   "id": "b686c2a0",
   "metadata": {},
   "source": [
    "4. Plot an AUC_ROC curve and choose the best model based on the curve."
   ]
  },
  {
   "cell_type": "code",
   "execution_count": 216,
   "id": "dbca1abd",
   "metadata": {},
   "outputs": [
    {
     "data": {
      "image/png": "[encoded data removed]",
      "text/plain": [
       "<Figure size 1200x600 with 1 Axes>"
      ]
     },
     "metadata": {},
     "output_type": "display_data"
    }
   ],
   "source": [
    "# Calculate ROC curve and AUC for each model\n",
    "\n",
    "# Oversampling Data Logistic Regression\n",
    "y_pred_proba1 = over_logreg.predict_proba(X_test_oversampled)[:, 1]\n",
    "fpr1, tpr1, _ = roc_curve(y_test_oversampled, y_pred_proba1)\n",
    "roc_auc1 = roc_auc_score(y_test_oversampled, y_pred_proba1)\n",
    "\n",
    "# Oversampling Data LDA\n",
    "y_pred_proba2 = over_lda.predict_proba(X_test_oversampled)[:, 1]\n",
    "fpr2, tpr2, _ = roc_curve(y_test_oversampled, y_pred_proba2)\n",
    "roc_auc2 = roc_auc_score(y_test_oversampled, y_pred_proba2)\n",
    "\n",
    "# Undersampling Data Logistic Regression\n",
    "y_pred_proba3 = under_logreg.predict_proba(X_test_undersampled)[:, 1]\n",
    "fpr3, tpr3, _ = roc_curve(y_test_undersampled, y_pred_proba3)\n",
    "roc_auc3 = roc_auc_score(y_test_undersampled, y_pred_proba3)\n",
    "\n",
    "# Undersampling Data LDA\n",
    "y_pred_proba4 = under_lda.predict_proba(X_test_undersampled)[:, 1]\n",
    "fpr4, tpr4, _ = roc_curve(y_test_undersampled, y_pred_proba4)\n",
    "roc_auc4 = roc_auc_score(y_test_undersampled, y_pred_proba4)\n",
    "\n",
    "# SMOTE Data Logistic Regression\n",
    "y_pred_proba5 = smote_logreg.predict_proba(X_test_smote)[:, 1]\n",
    "fpr5, tpr5, _ = roc_curve(y_test_smote, y_pred_proba5)\n",
    "roc_auc5 = roc_auc_score(y_test_smote, y_pred_proba5)\n",
    "\n",
    "# SMOTE Data LDA\n",
    "y_pred_proba6 = smote_lda.predict_proba(X_test_smote)[:, 1]\n",
    "fpr6, tpr6, _ = roc_curve(y_test_smote, y_pred_proba6)\n",
    "roc_auc6 = roc_auc_score(y_test_smote, y_pred_proba6)\n",
    "\n",
    "# Plot ROC curves\n",
    "plt.figure(figsize=(12, 6))\n",
    "plt.plot(fpr1, tpr1, color='pink', lw=2, label='Model 1 (AUC = %0.2f): Oversampling Data Logistic Regression' % roc_auc1)\n",
    "plt.plot(fpr2, tpr2, color='purple', lw=2, label='Model 2 (AUC = %0.2f): Oversampling Data LDA' % roc_auc2)\n",
    "plt.plot(fpr3, tpr3, color='orange', lw=2, label='Model 3 (AUC = %0.2f): Undersampling Data Logistic Regression' % roc_auc3)\n",
    "plt.plot(fpr4, tpr4, color='green', lw=2, label='Model 4 (AUC = %0.2f): Undersampling Data LDA' % roc_auc4)\n",
    "plt.plot(fpr5, tpr5, color='blue', lw=2, label='Model 5 (AUC = %0.2f): SMOTE Data Logistic Regression' % roc_auc5)\n",
    "plt.plot(fpr6, tpr6, color='yellow', lw=2, label='Model 6 (AUC = %0.2f): SMOTE Data LDA' % roc_auc6)\n",
    "plt.plot([0, 1], [0, 1], color='red', lw=2, linestyle='--')\n",
    "plt.xlim([0, 1])\n",
    "plt.ylim([0, 1.1])\n",
    "plt.xlabel('False Positive Rate')\n",
    "plt.ylabel('True Positive Rate')\n",
    "plt.title('ROC')\n",
    "plt.legend(loc=\"lower right\")\n",
    "plt.show()"
   ]
  },
  {
   "cell_type": "markdown",
   "id": "902d45b7",
   "metadata": {},
   "source": [
    "5. Which model would you prefer? Explain."
   ]
  },
  {
   "cell_type": "markdown",
   "id": "7b23b609",
   "metadata": {},
   "source": [
    "**The model I would prefer is Linear Discriminant Analysis (LDA) with oversampled data in SMOTE because it yields the highest AUC score, which is 0.85.**"
   ]
  }
 ],
 "metadata": {
  "kernelspec": {
   "display_name": "Python 3 (ipykernel)",
   "language": "python",
   "name": "python3"
  },
  "language_info": {
   "codemirror_mode": {
    "name": "ipython",
    "version": 3
   },
   "file_extension": ".py",
   "mimetype": "text/x-python",
   "name": "python",
   "nbconvert_exporter": "python",
   "pygments_lexer": "ipython3",
   "version": "3.9.13"
  }
 },
 "nbformat": 4,
 "nbformat_minor": 5
}
