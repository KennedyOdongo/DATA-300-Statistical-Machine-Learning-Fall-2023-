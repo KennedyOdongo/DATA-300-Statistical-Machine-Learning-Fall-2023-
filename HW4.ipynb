{
 "cells": [
  {
   "cell_type": "markdown",
   "metadata": {},
   "source": [
    "#### 20/20. Good job Heidi. "
   ]
  },
  {
   "cell_type": "code",
   "execution_count": 41,
   "id": "0be7f2ca",
   "metadata": {},
   "outputs": [],
   "source": [
    "# Python version 3.9.12, conda version 22.9.0\n",
    "\n",
    "import numpy as np # v 1.21.5\n",
    "import sklearn # v 0.0\n",
    "import pandas as pd # v 1.4.2\n",
    "import matplotlib.pyplot as plt # v 3.5.1\n",
    "import statsmodels.api as sm # v.0.13.2\n",
    "\n",
    "from sklearn.linear_model import LogisticRegression \n",
    "from sklearn.model_selection import train_test_split \n",
    "from sklearn.metrics import accuracy_score \n",
    "from sklearn.metrics import precision_score \n",
    "from sklearn.metrics import recall_score\n",
    "from sklearn import metrics \n",
    "from sklearn.discriminant_analysis import LinearDiscriminantAnalysis \n",
    "from sklearn.utils import resample\n",
    "from imblearn.over_sampling import SMOTE "
   ]
  },
  {
   "cell_type": "code",
   "execution_count": 42,
   "id": "511acb23",
   "metadata": {},
   "outputs": [],
   "source": [
    "df = pd.read_csv(\"/Users/heidibeardsley/Downloads/loan_default_data_set.csv\")"
   ]
  },
  {
   "cell_type": "code",
   "execution_count": 43,
   "id": "8781ff5f",
   "metadata": {},
   "outputs": [
    {
     "data": {
      "text/plain": [
       "tot_balance                        0\n",
       "avg_bal_cards                      0\n",
       "credit_age                         0\n",
       "credit_age_good_account            0\n",
       "credit_card_age                    0\n",
       "num_acc_30d_past_due_12_months     0\n",
       "num_acc_30d_past_due_6_months      0\n",
       "num_mortgage_currently_past_due    0\n",
       "tot_amount_currently_past_due      0\n",
       "num_inq_12_month                   0\n",
       "num_card_inq_24_month              0\n",
       "num_card_12_month                  0\n",
       "num_auto_ 36_month                 0\n",
       "uti_open_card                      0\n",
       "pct_over_50_uti                    0\n",
       "uti_max_credit_line                0\n",
       "pct_card_over_50_uti               0\n",
       "ind_XYZ                            0\n",
       "rep_income                         0\n",
       "rep_education                      0\n",
       "Def_ind                            0\n",
       "dtype: int64"
      ]
     },
     "execution_count": 43,
     "metadata": {},
     "output_type": "execute_result"
    }
   ],
   "source": [
    "# correcting missing values\n",
    "\n",
    "df['pct_card_over_50_uti']=df['pct_card_over_50_uti'].fillna(df['pct_card_over_50_uti'].mean())\n",
    "df['rep_income']=df['rep_income'].fillna(df['rep_income'].mean())\n",
    "df.dropna(axis=0, inplace = True)\n",
    "df.isna().sum()"
   ]
  },
  {
   "cell_type": "code",
   "execution_count": 44,
   "id": "ad0d5c82",
   "metadata": {},
   "outputs": [
    {
     "data": {
      "text/html": [
       "<div>\n",
       "<style scoped>\n",
       "    .dataframe tbody tr th:only-of-type {\n",
       "        vertical-align: middle;\n",
       "    }\n",
       "\n",
       "    .dataframe tbody tr th {\n",
       "        vertical-align: top;\n",
       "    }\n",
       "\n",
       "    .dataframe thead th {\n",
       "        text-align: right;\n",
       "    }\n",
       "</style>\n",
       "<table border=\"1\" class=\"dataframe\">\n",
       "  <thead>\n",
       "    <tr style=\"text-align: right;\">\n",
       "      <th></th>\n",
       "      <th>tot_balance</th>\n",
       "      <th>avg_bal_cards</th>\n",
       "      <th>credit_age</th>\n",
       "      <th>credit_age_good_account</th>\n",
       "      <th>credit_card_age</th>\n",
       "      <th>num_acc_30d_past_due_12_months</th>\n",
       "      <th>num_acc_30d_past_due_6_months</th>\n",
       "      <th>num_mortgage_currently_past_due</th>\n",
       "      <th>tot_amount_currently_past_due</th>\n",
       "      <th>num_inq_12_month</th>\n",
       "      <th>...</th>\n",
       "      <th>uti_open_card</th>\n",
       "      <th>pct_over_50_uti</th>\n",
       "      <th>uti_max_credit_line</th>\n",
       "      <th>pct_card_over_50_uti</th>\n",
       "      <th>ind_XYZ</th>\n",
       "      <th>rep_income</th>\n",
       "      <th>Def_ind</th>\n",
       "      <th>graduate</th>\n",
       "      <th>high_school</th>\n",
       "      <th>other</th>\n",
       "    </tr>\n",
       "  </thead>\n",
       "  <tbody>\n",
       "    <tr>\n",
       "      <th>0</th>\n",
       "      <td>102956.1101</td>\n",
       "      <td>14819.05740</td>\n",
       "      <td>238</td>\n",
       "      <td>104</td>\n",
       "      <td>264</td>\n",
       "      <td>0</td>\n",
       "      <td>0</td>\n",
       "      <td>0</td>\n",
       "      <td>0.0</td>\n",
       "      <td>0</td>\n",
       "      <td>...</td>\n",
       "      <td>0.366737</td>\n",
       "      <td>0.342183</td>\n",
       "      <td>0.513934</td>\n",
       "      <td>0.550866</td>\n",
       "      <td>0</td>\n",
       "      <td>118266.32130</td>\n",
       "      <td>0</td>\n",
       "      <td>0</td>\n",
       "      <td>0</td>\n",
       "      <td>0</td>\n",
       "    </tr>\n",
       "    <tr>\n",
       "      <th>1</th>\n",
       "      <td>132758.7258</td>\n",
       "      <td>18951.93455</td>\n",
       "      <td>384</td>\n",
       "      <td>197</td>\n",
       "      <td>371</td>\n",
       "      <td>0</td>\n",
       "      <td>0</td>\n",
       "      <td>0</td>\n",
       "      <td>0.0</td>\n",
       "      <td>0</td>\n",
       "      <td>...</td>\n",
       "      <td>0.490809</td>\n",
       "      <td>0.540671</td>\n",
       "      <td>0.418016</td>\n",
       "      <td>0.550964</td>\n",
       "      <td>0</td>\n",
       "      <td>89365.05765</td>\n",
       "      <td>0</td>\n",
       "      <td>0</td>\n",
       "      <td>0</td>\n",
       "      <td>0</td>\n",
       "    </tr>\n",
       "    <tr>\n",
       "      <th>2</th>\n",
       "      <td>124658.9174</td>\n",
       "      <td>15347.92969</td>\n",
       "      <td>277</td>\n",
       "      <td>110</td>\n",
       "      <td>288</td>\n",
       "      <td>0</td>\n",
       "      <td>0</td>\n",
       "      <td>0</td>\n",
       "      <td>0.0</td>\n",
       "      <td>0</td>\n",
       "      <td>...</td>\n",
       "      <td>0.359074</td>\n",
       "      <td>0.338560</td>\n",
       "      <td>0.341627</td>\n",
       "      <td>0.451417</td>\n",
       "      <td>0</td>\n",
       "      <td>201365.12130</td>\n",
       "      <td>0</td>\n",
       "      <td>0</td>\n",
       "      <td>0</td>\n",
       "      <td>0</td>\n",
       "    </tr>\n",
       "    <tr>\n",
       "      <th>3</th>\n",
       "      <td>133968.5369</td>\n",
       "      <td>14050.71334</td>\n",
       "      <td>375</td>\n",
       "      <td>224</td>\n",
       "      <td>343</td>\n",
       "      <td>0</td>\n",
       "      <td>0</td>\n",
       "      <td>0</td>\n",
       "      <td>0.0</td>\n",
       "      <td>2</td>\n",
       "      <td>...</td>\n",
       "      <td>0.700379</td>\n",
       "      <td>0.683589</td>\n",
       "      <td>0.542940</td>\n",
       "      <td>0.607843</td>\n",
       "      <td>0</td>\n",
       "      <td>191794.48550</td>\n",
       "      <td>0</td>\n",
       "      <td>0</td>\n",
       "      <td>0</td>\n",
       "      <td>0</td>\n",
       "    </tr>\n",
       "    <tr>\n",
       "      <th>4</th>\n",
       "      <td>143601.8017</td>\n",
       "      <td>14858.51527</td>\n",
       "      <td>374</td>\n",
       "      <td>155</td>\n",
       "      <td>278</td>\n",
       "      <td>0</td>\n",
       "      <td>0</td>\n",
       "      <td>0</td>\n",
       "      <td>0.0</td>\n",
       "      <td>0</td>\n",
       "      <td>...</td>\n",
       "      <td>0.647351</td>\n",
       "      <td>0.510812</td>\n",
       "      <td>0.632934</td>\n",
       "      <td>0.573680</td>\n",
       "      <td>0</td>\n",
       "      <td>161465.36790</td>\n",
       "      <td>0</td>\n",
       "      <td>1</td>\n",
       "      <td>0</td>\n",
       "      <td>0</td>\n",
       "    </tr>\n",
       "  </tbody>\n",
       "</table>\n",
       "<p>5 rows × 23 columns</p>\n",
       "</div>"
      ],
      "text/plain": [
       "   tot_balance  avg_bal_cards  credit_age  credit_age_good_account  \\\n",
       "0  102956.1101    14819.05740         238                      104   \n",
       "1  132758.7258    18951.93455         384                      197   \n",
       "2  124658.9174    15347.92969         277                      110   \n",
       "3  133968.5369    14050.71334         375                      224   \n",
       "4  143601.8017    14858.51527         374                      155   \n",
       "\n",
       "   credit_card_age  num_acc_30d_past_due_12_months  \\\n",
       "0              264                               0   \n",
       "1              371                               0   \n",
       "2              288                               0   \n",
       "3              343                               0   \n",
       "4              278                               0   \n",
       "\n",
       "   num_acc_30d_past_due_6_months  num_mortgage_currently_past_due  \\\n",
       "0                              0                                0   \n",
       "1                              0                                0   \n",
       "2                              0                                0   \n",
       "3                              0                                0   \n",
       "4                              0                                0   \n",
       "\n",
       "   tot_amount_currently_past_due  num_inq_12_month  ...  uti_open_card  \\\n",
       "0                            0.0                 0  ...       0.366737   \n",
       "1                            0.0                 0  ...       0.490809   \n",
       "2                            0.0                 0  ...       0.359074   \n",
       "3                            0.0                 2  ...       0.700379   \n",
       "4                            0.0                 0  ...       0.647351   \n",
       "\n",
       "   pct_over_50_uti  uti_max_credit_line  pct_card_over_50_uti  ind_XYZ  \\\n",
       "0         0.342183             0.513934              0.550866        0   \n",
       "1         0.540671             0.418016              0.550964        0   \n",
       "2         0.338560             0.341627              0.451417        0   \n",
       "3         0.683589             0.542940              0.607843        0   \n",
       "4         0.510812             0.632934              0.573680        0   \n",
       "\n",
       "     rep_income  Def_ind  graduate  high_school  other  \n",
       "0  118266.32130        0         0            0      0  \n",
       "1   89365.05765        0         0            0      0  \n",
       "2  201365.12130        0         0            0      0  \n",
       "3  191794.48550        0         0            0      0  \n",
       "4  161465.36790        0         1            0      0  \n",
       "\n",
       "[5 rows x 23 columns]"
      ]
     },
     "execution_count": 44,
     "metadata": {},
     "output_type": "execute_result"
    }
   ],
   "source": [
    "# creating dummy variables for qualitative data\n",
    "\n",
    "rep_education = pd.get_dummies(df['rep_education'], drop_first=True)\n",
    "df.drop('rep_education',axis=1,inplace=True)\n",
    "df = pd.concat([df,rep_education], axis=1)\n",
    "df.head()"
   ]
  },
  {
   "cell_type": "code",
   "execution_count": 45,
   "id": "47cfe862",
   "metadata": {},
   "outputs": [],
   "source": [
    "# Splitting the data into two dataframes, defaulted and not defaulted\n",
    "\n",
    "by_class = df.groupby('Def_ind')\n",
    "defaulted = by_class.get_group(1)\n",
    "not_defaulted = by_class.get_group(0)"
   ]
  },
  {
   "cell_type": "code",
   "execution_count": 46,
   "id": "2dcd511e",
   "metadata": {},
   "outputs": [
    {
     "name": "stdout",
     "output_type": "stream",
     "text": [
      "<class 'pandas.core.frame.DataFrame'>\n",
      "Int64Index: 2000 entries, 14 to 19998\n",
      "Data columns (total 23 columns):\n",
      " #   Column                           Non-Null Count  Dtype  \n",
      "---  ------                           --------------  -----  \n",
      " 0   tot_balance                      2000 non-null   float64\n",
      " 1   avg_bal_cards                    2000 non-null   float64\n",
      " 2   credit_age                       2000 non-null   int64  \n",
      " 3   credit_age_good_account          2000 non-null   int64  \n",
      " 4   credit_card_age                  2000 non-null   int64  \n",
      " 5   num_acc_30d_past_due_12_months   2000 non-null   int64  \n",
      " 6   num_acc_30d_past_due_6_months    2000 non-null   int64  \n",
      " 7   num_mortgage_currently_past_due  2000 non-null   int64  \n",
      " 8   tot_amount_currently_past_due    2000 non-null   float64\n",
      " 9   num_inq_12_month                 2000 non-null   int64  \n",
      " 10  num_card_inq_24_month            2000 non-null   int64  \n",
      " 11  num_card_12_month                2000 non-null   int64  \n",
      " 12  num_auto_ 36_month               2000 non-null   int64  \n",
      " 13  uti_open_card                    2000 non-null   float64\n",
      " 14  pct_over_50_uti                  2000 non-null   float64\n",
      " 15  uti_max_credit_line              2000 non-null   float64\n",
      " 16  pct_card_over_50_uti             2000 non-null   float64\n",
      " 17  ind_XYZ                          2000 non-null   int64  \n",
      " 18  rep_income                       2000 non-null   float64\n",
      " 19  Def_ind                          2000 non-null   int64  \n",
      " 20  graduate                         2000 non-null   uint8  \n",
      " 21  high_school                      2000 non-null   uint8  \n",
      " 22  other                            2000 non-null   uint8  \n",
      "dtypes: float64(8), int64(12), uint8(3)\n",
      "memory usage: 334.0 KB\n"
     ]
    }
   ],
   "source": [
    "defaulted.info()"
   ]
  },
  {
   "cell_type": "code",
   "execution_count": 47,
   "id": "84ae2c2a",
   "metadata": {},
   "outputs": [
    {
     "name": "stdout",
     "output_type": "stream",
     "text": [
      "<class 'pandas.core.frame.DataFrame'>\n",
      "Int64Index: 17999 entries, 0 to 19999\n",
      "Data columns (total 23 columns):\n",
      " #   Column                           Non-Null Count  Dtype  \n",
      "---  ------                           --------------  -----  \n",
      " 0   tot_balance                      17999 non-null  float64\n",
      " 1   avg_bal_cards                    17999 non-null  float64\n",
      " 2   credit_age                       17999 non-null  int64  \n",
      " 3   credit_age_good_account          17999 non-null  int64  \n",
      " 4   credit_card_age                  17999 non-null  int64  \n",
      " 5   num_acc_30d_past_due_12_months   17999 non-null  int64  \n",
      " 6   num_acc_30d_past_due_6_months    17999 non-null  int64  \n",
      " 7   num_mortgage_currently_past_due  17999 non-null  int64  \n",
      " 8   tot_amount_currently_past_due    17999 non-null  float64\n",
      " 9   num_inq_12_month                 17999 non-null  int64  \n",
      " 10  num_card_inq_24_month            17999 non-null  int64  \n",
      " 11  num_card_12_month                17999 non-null  int64  \n",
      " 12  num_auto_ 36_month               17999 non-null  int64  \n",
      " 13  uti_open_card                    17999 non-null  float64\n",
      " 14  pct_over_50_uti                  17999 non-null  float64\n",
      " 15  uti_max_credit_line              17999 non-null  float64\n",
      " 16  pct_card_over_50_uti             17999 non-null  float64\n",
      " 17  ind_XYZ                          17999 non-null  int64  \n",
      " 18  rep_income                       17999 non-null  float64\n",
      " 19  Def_ind                          17999 non-null  int64  \n",
      " 20  graduate                         17999 non-null  uint8  \n",
      " 21  high_school                      17999 non-null  uint8  \n",
      " 22  other                            17999 non-null  uint8  \n",
      "dtypes: float64(8), int64(12), uint8(3)\n",
      "memory usage: 2.9 MB\n"
     ]
    }
   ],
   "source": [
    "not_defaulted.info()"
   ]
  },
  {
   "cell_type": "code",
   "execution_count": 48,
   "id": "3346956d",
   "metadata": {},
   "outputs": [],
   "source": [
    "# Part A - oversampling\n",
    "# creating the oversampled dataframe for defaulted to match the number of observations in not_defaulted\n",
    "\n",
    "defaulted_oversampled = resample(defaulted,random_state=7,n_samples=16000,replace=True)\n",
    "df_defaulted_oversampled = pd.concat([defaulted_oversampled,defaulted])"
   ]
  },
  {
   "cell_type": "code",
   "execution_count": 49,
   "id": "4f46f7f9",
   "metadata": {},
   "outputs": [
    {
     "name": "stdout",
     "output_type": "stream",
     "text": [
      "<class 'pandas.core.frame.DataFrame'>\n",
      "Int64Index: 18000 entries, 1855 to 19998\n",
      "Data columns (total 23 columns):\n",
      " #   Column                           Non-Null Count  Dtype  \n",
      "---  ------                           --------------  -----  \n",
      " 0   tot_balance                      18000 non-null  float64\n",
      " 1   avg_bal_cards                    18000 non-null  float64\n",
      " 2   credit_age                       18000 non-null  int64  \n",
      " 3   credit_age_good_account          18000 non-null  int64  \n",
      " 4   credit_card_age                  18000 non-null  int64  \n",
      " 5   num_acc_30d_past_due_12_months   18000 non-null  int64  \n",
      " 6   num_acc_30d_past_due_6_months    18000 non-null  int64  \n",
      " 7   num_mortgage_currently_past_due  18000 non-null  int64  \n",
      " 8   tot_amount_currently_past_due    18000 non-null  float64\n",
      " 9   num_inq_12_month                 18000 non-null  int64  \n",
      " 10  num_card_inq_24_month            18000 non-null  int64  \n",
      " 11  num_card_12_month                18000 non-null  int64  \n",
      " 12  num_auto_ 36_month               18000 non-null  int64  \n",
      " 13  uti_open_card                    18000 non-null  float64\n",
      " 14  pct_over_50_uti                  18000 non-null  float64\n",
      " 15  uti_max_credit_line              18000 non-null  float64\n",
      " 16  pct_card_over_50_uti             18000 non-null  float64\n",
      " 17  ind_XYZ                          18000 non-null  int64  \n",
      " 18  rep_income                       18000 non-null  float64\n",
      " 19  Def_ind                          18000 non-null  int64  \n",
      " 20  graduate                         18000 non-null  uint8  \n",
      " 21  high_school                      18000 non-null  uint8  \n",
      " 22  other                            18000 non-null  uint8  \n",
      "dtypes: float64(8), int64(12), uint8(3)\n",
      "memory usage: 2.9 MB\n"
     ]
    }
   ],
   "source": [
    "df_defaulted_oversampled.info()"
   ]
  },
  {
   "cell_type": "code",
   "execution_count": 50,
   "id": "590d997c",
   "metadata": {},
   "outputs": [
    {
     "name": "stdout",
     "output_type": "stream",
     "text": [
      "<class 'pandas.core.frame.DataFrame'>\n",
      "Int64Index: 35999 entries, 1855 to 19999\n",
      "Data columns (total 23 columns):\n",
      " #   Column                           Non-Null Count  Dtype  \n",
      "---  ------                           --------------  -----  \n",
      " 0   tot_balance                      35999 non-null  float64\n",
      " 1   avg_bal_cards                    35999 non-null  float64\n",
      " 2   credit_age                       35999 non-null  int64  \n",
      " 3   credit_age_good_account          35999 non-null  int64  \n",
      " 4   credit_card_age                  35999 non-null  int64  \n",
      " 5   num_acc_30d_past_due_12_months   35999 non-null  int64  \n",
      " 6   num_acc_30d_past_due_6_months    35999 non-null  int64  \n",
      " 7   num_mortgage_currently_past_due  35999 non-null  int64  \n",
      " 8   tot_amount_currently_past_due    35999 non-null  float64\n",
      " 9   num_inq_12_month                 35999 non-null  int64  \n",
      " 10  num_card_inq_24_month            35999 non-null  int64  \n",
      " 11  num_card_12_month                35999 non-null  int64  \n",
      " 12  num_auto_ 36_month               35999 non-null  int64  \n",
      " 13  uti_open_card                    35999 non-null  float64\n",
      " 14  pct_over_50_uti                  35999 non-null  float64\n",
      " 15  uti_max_credit_line              35999 non-null  float64\n",
      " 16  pct_card_over_50_uti             35999 non-null  float64\n",
      " 17  ind_XYZ                          35999 non-null  int64  \n",
      " 18  rep_income                       35999 non-null  float64\n",
      " 19  Def_ind                          35999 non-null  int64  \n",
      " 20  graduate                         35999 non-null  uint8  \n",
      " 21  high_school                      35999 non-null  uint8  \n",
      " 22  other                            35999 non-null  uint8  \n",
      "dtypes: float64(8), int64(12), uint8(3)\n",
      "memory usage: 5.9 MB\n"
     ]
    }
   ],
   "source": [
    "# concatenating the oversampled defaulted and not_defaulted to creat a dataframe with 36,000 observations\n",
    "\n",
    "df_oversampled = pd.concat([df_defaulted_oversampled,not_defaulted])\n",
    "df_oversampled.info()"
   ]
  },
  {
   "cell_type": "code",
   "execution_count": 51,
   "id": "e04d5937",
   "metadata": {},
   "outputs": [],
   "source": [
    "# creating the test and training sets\n",
    "\n",
    "X = df_oversampled.iloc[:,[0,1,2,3,4,5,6,7,8,9,10,11,12,13,14,15,17,18,19]]\n",
    "y = df_oversampled[\"Def_ind\"]\n",
    "X_train, X_test, y_train, y_test = train_test_split(X, y, test_size=0.30, random_state=1)"
   ]
  },
  {
   "cell_type": "code",
   "execution_count": 52,
   "id": "be13c535",
   "metadata": {},
   "outputs": [],
   "source": [
    "# fitting the Logistic Regression Model\n",
    "\n",
    "lr = LogisticRegression()\n",
    "lr.fit(X_train, y_train)\n",
    "y_pred = lr.predict(X_test)"
   ]
  },
  {
   "cell_type": "code",
   "execution_count": 53,
   "id": "5c5319ce",
   "metadata": {},
   "outputs": [
    {
     "name": "stdout",
     "output_type": "stream",
     "text": [
      "0.637962962962963\n",
      "0.637962962962963\n",
      "0.637962962962963\n"
     ]
    }
   ],
   "source": [
    "# metrics\n",
    "\n",
    "accuracy = accuracy_score(y_test, y_pred)\n",
    "precision = precision_score(y_test, y_pred, average = \"micro\")\n",
    "recall = recall_score(y_test, y_pred, average = \"micro\")\n",
    "print(accuracy)\n",
    "print(precision)\n",
    "print(recall)\n",
    "\n",
    "# An accuracy score of 0.64 shows the model is correct 0.64 overall.\n",
    "# A precision score of 0.64  shows the model is correct 0.64 when predicting the target class.\n",
    "# A recall score of 0.64 shows the model can find all objects of the target class 0.64 of the time."
   ]
  },
  {
   "cell_type": "code",
   "execution_count": 54,
   "id": "d66cc94f",
   "metadata": {},
   "outputs": [
    {
     "data": {
      "image/png": "[encoded data removed]",
      "text/plain": [
       "<Figure size 432x288 with 1 Axes>"
      ]
     },
     "metadata": {
      "needs_background": "light"
     },
     "output_type": "display_data"
    }
   ],
   "source": [
    "# creating the ROC/AUC plot.\n",
    "\n",
    "probs = lr.predict_proba(X_test)\n",
    "preds = probs[:,1]\n",
    "fpr, tpr, threshold = metrics.roc_curve(y_test, preds)\n",
    "roc_auc = metrics.auc(fpr, tpr)\n",
    "\n",
    "plt.title('ROC/AUC')\n",
    "plt.plot(fpr, tpr, 'b', label = 'AUC = %0.2f' % roc_auc)\n",
    "plt.legend(loc = 'lower right')\n",
    "plt.plot([0, 1], [0, 1],'r--')\n",
    "plt.xlim([0, 1])\n",
    "plt.ylim([0, 1])\n",
    "plt.ylabel('True Positive Rate')\n",
    "plt.xlabel('False Positive Rate')\n",
    "plt.show()"
   ]
  },
  {
   "cell_type": "code",
   "execution_count": 55,
   "id": "fe6f89d9",
   "metadata": {},
   "outputs": [],
   "source": [
    "# fitting the LDA model\n",
    "\n",
    "lda = LinearDiscriminantAnalysis()\n",
    "lda.fit(X_train, y_train)\n",
    "y_pred = lda.predict(X_test)"
   ]
  },
  {
   "cell_type": "code",
   "execution_count": 56,
   "id": "88068eaf",
   "metadata": {},
   "outputs": [
    {
     "name": "stdout",
     "output_type": "stream",
     "text": [
      "0.7238888888888889\n",
      "0.7238888888888889\n",
      "0.7238888888888889\n"
     ]
    }
   ],
   "source": [
    "# metrics\n",
    "\n",
    "accuracy = accuracy_score(y_test, y_pred)\n",
    "precision = precision_score(y_test, y_pred, average = \"micro\")\n",
    "recall = recall_score(y_test, y_pred, average = \"micro\")\n",
    "print(accuracy)\n",
    "print(precision)\n",
    "print(recall)\n",
    "\n",
    "# An accuracy score of 0.72 shows the model is correct 0.72 overall.\n",
    "# A precision score of 0.72  shows the model is correct 0.72 when predicting the target class.\n",
    "# A recall score of 0.72 shows the model can find all objects of the target class 0.72 of the time."
   ]
  },
  {
   "cell_type": "code",
   "execution_count": 57,
   "id": "df07c094",
   "metadata": {},
   "outputs": [
    {
     "data": {
      "image/png": "[encoded data removed]",
      "text/plain": [
       "<Figure size 432x288 with 1 Axes>"
      ]
     },
     "metadata": {
      "needs_background": "light"
     },
     "output_type": "display_data"
    }
   ],
   "source": [
    "# creating the ROC/AUC plot\n",
    "\n",
    "probs = lda.predict_proba(X_test)\n",
    "preds = probs[:,1]\n",
    "fpr, tpr, threshold = metrics.roc_curve(y_test, preds)\n",
    "roc_auc = metrics.auc(fpr, tpr)\n",
    "\n",
    "plt.title('ROC/AUC')\n",
    "plt.plot(fpr, tpr, 'b', label = 'AUC = %0.2f' % roc_auc)\n",
    "plt.legend(loc = 'lower right')\n",
    "plt.plot([0, 1], [0, 1],'r--')\n",
    "plt.xlim([0, 1])\n",
    "plt.ylim([0, 1])\n",
    "plt.ylabel('True Positive Rate')\n",
    "plt.xlabel('False Positive Rate')\n",
    "plt.show()"
   ]
  },
  {
   "cell_type": "code",
   "execution_count": 58,
   "id": "afa2655b",
   "metadata": {},
   "outputs": [
    {
     "name": "stdout",
     "output_type": "stream",
     "text": [
      "<class 'pandas.core.frame.DataFrame'>\n",
      "Int64Index: 2000 entries, 18806 to 1111\n",
      "Data columns (total 23 columns):\n",
      " #   Column                           Non-Null Count  Dtype  \n",
      "---  ------                           --------------  -----  \n",
      " 0   tot_balance                      2000 non-null   float64\n",
      " 1   avg_bal_cards                    2000 non-null   float64\n",
      " 2   credit_age                       2000 non-null   int64  \n",
      " 3   credit_age_good_account          2000 non-null   int64  \n",
      " 4   credit_card_age                  2000 non-null   int64  \n",
      " 5   num_acc_30d_past_due_12_months   2000 non-null   int64  \n",
      " 6   num_acc_30d_past_due_6_months    2000 non-null   int64  \n",
      " 7   num_mortgage_currently_past_due  2000 non-null   int64  \n",
      " 8   tot_amount_currently_past_due    2000 non-null   float64\n",
      " 9   num_inq_12_month                 2000 non-null   int64  \n",
      " 10  num_card_inq_24_month            2000 non-null   int64  \n",
      " 11  num_card_12_month                2000 non-null   int64  \n",
      " 12  num_auto_ 36_month               2000 non-null   int64  \n",
      " 13  uti_open_card                    2000 non-null   float64\n",
      " 14  pct_over_50_uti                  2000 non-null   float64\n",
      " 15  uti_max_credit_line              2000 non-null   float64\n",
      " 16  pct_card_over_50_uti             2000 non-null   float64\n",
      " 17  ind_XYZ                          2000 non-null   int64  \n",
      " 18  rep_income                       2000 non-null   float64\n",
      " 19  Def_ind                          2000 non-null   int64  \n",
      " 20  graduate                         2000 non-null   uint8  \n",
      " 21  high_school                      2000 non-null   uint8  \n",
      " 22  other                            2000 non-null   uint8  \n",
      "dtypes: float64(8), int64(12), uint8(3)\n",
      "memory usage: 334.0 KB\n"
     ]
    }
   ],
   "source": [
    "# Part B - undersampling\n",
    "# creating the undersampled dataframe by randomly choosing 2000 samples\n",
    "\n",
    "not_defaulted_undersampled = resample(not_defaulted,random_state=7,n_samples=2000,replace=True)\n",
    "not_defaulted_undersampled.info()"
   ]
  },
  {
   "cell_type": "code",
   "execution_count": null,
   "id": "8b08585d",
   "metadata": {},
   "outputs": [],
   "source": []
  },
  {
   "cell_type": "code",
   "execution_count": 59,
   "id": "6e12b5f8",
   "metadata": {},
   "outputs": [
    {
     "name": "stdout",
     "output_type": "stream",
     "text": [
      "<class 'pandas.core.frame.DataFrame'>\n",
      "Int64Index: 4000 entries, 18806 to 19998\n",
      "Data columns (total 23 columns):\n",
      " #   Column                           Non-Null Count  Dtype  \n",
      "---  ------                           --------------  -----  \n",
      " 0   tot_balance                      4000 non-null   float64\n",
      " 1   avg_bal_cards                    4000 non-null   float64\n",
      " 2   credit_age                       4000 non-null   int64  \n",
      " 3   credit_age_good_account          4000 non-null   int64  \n",
      " 4   credit_card_age                  4000 non-null   int64  \n",
      " 5   num_acc_30d_past_due_12_months   4000 non-null   int64  \n",
      " 6   num_acc_30d_past_due_6_months    4000 non-null   int64  \n",
      " 7   num_mortgage_currently_past_due  4000 non-null   int64  \n",
      " 8   tot_amount_currently_past_due    4000 non-null   float64\n",
      " 9   num_inq_12_month                 4000 non-null   int64  \n",
      " 10  num_card_inq_24_month            4000 non-null   int64  \n",
      " 11  num_card_12_month                4000 non-null   int64  \n",
      " 12  num_auto_ 36_month               4000 non-null   int64  \n",
      " 13  uti_open_card                    4000 non-null   float64\n",
      " 14  pct_over_50_uti                  4000 non-null   float64\n",
      " 15  uti_max_credit_line              4000 non-null   float64\n",
      " 16  pct_card_over_50_uti             4000 non-null   float64\n",
      " 17  ind_XYZ                          4000 non-null   int64  \n",
      " 18  rep_income                       4000 non-null   float64\n",
      " 19  Def_ind                          4000 non-null   int64  \n",
      " 20  graduate                         4000 non-null   uint8  \n",
      " 21  high_school                      4000 non-null   uint8  \n",
      " 22  other                            4000 non-null   uint8  \n",
      "dtypes: float64(8), int64(12), uint8(3)\n",
      "memory usage: 668.0 KB\n"
     ]
    }
   ],
   "source": [
    "# concatenating the undersampled dataframe with the defaulted dataframe\n",
    "\n",
    "df_undersampled = pd.concat([not_defaulted_undersampled,defaulted])\n",
    "df_undersampled.info()"
   ]
  },
  {
   "cell_type": "code",
   "execution_count": null,
   "id": "a7abfccc",
   "metadata": {},
   "outputs": [],
   "source": []
  },
  {
   "cell_type": "code",
   "execution_count": 60,
   "id": "2a29d494",
   "metadata": {},
   "outputs": [],
   "source": [
    "# creating the test and training sets\n",
    "\n",
    "X = df_undersampled.iloc[:,[0,1,2,3,4,5,6,7,8,9,10,11,12,13,14,15,17,18,19]]\n",
    "y = df_undersampled[\"Def_ind\"]\n",
    "X_train, X_test, y_train, y_test = train_test_split(X, y, test_size=0.30, random_state=1)"
   ]
  },
  {
   "cell_type": "code",
   "execution_count": null,
   "id": "9676f45a",
   "metadata": {},
   "outputs": [],
   "source": []
  },
  {
   "cell_type": "code",
   "execution_count": 61,
   "id": "c3e19b48",
   "metadata": {},
   "outputs": [],
   "source": [
    "# fitting the Logistic Regression Model\n",
    "\n",
    "lr = LogisticRegression()\n",
    "lr.fit(X_train, y_train)\n",
    "y_pred = lr.predict(X_test)"
   ]
  },
  {
   "cell_type": "code",
   "execution_count": 62,
   "id": "43b796d0",
   "metadata": {},
   "outputs": [
    {
     "name": "stdout",
     "output_type": "stream",
     "text": [
      "0.66\n",
      "0.66\n",
      "0.66\n"
     ]
    }
   ],
   "source": [
    "# metrics\n",
    "\n",
    "accuracy = accuracy_score(y_test, y_pred)\n",
    "precision = precision_score(y_test, y_pred, average = \"micro\")\n",
    "recall = recall_score(y_test, y_pred, average = \"micro\")\n",
    "print(accuracy)\n",
    "print(precision)\n",
    "print(recall)\n",
    "\n",
    "# An accuracy score of 0.66 shows the model is correct 0.66 overall.\n",
    "# A precision score of 0.66  shows the model is correct 0.66 when predicting the target class.\n",
    "# A recall score of 0.66 shows the model can find all objects of the target class 0.66 of the time."
   ]
  },
  {
   "cell_type": "code",
   "execution_count": 63,
   "id": "f4ad14d8",
   "metadata": {},
   "outputs": [
    {
     "data": {
      "image/png": "[encoded data removed]",
      "text/plain": [
       "<Figure size 432x288 with 1 Axes>"
      ]
     },
     "metadata": {
      "needs_background": "light"
     },
     "output_type": "display_data"
    }
   ],
   "source": [
    "# creating the ROC/AUC plot.\n",
    "\n",
    "probs = lr.predict_proba(X_test)\n",
    "preds = probs[:,1]\n",
    "fpr, tpr, threshold = metrics.roc_curve(y_test, preds)\n",
    "roc_auc = metrics.auc(fpr, tpr)\n",
    "\n",
    "plt.title('ROC/AUC')\n",
    "plt.plot(fpr, tpr, 'b', label = 'AUC = %0.2f' % roc_auc)\n",
    "plt.legend(loc = 'lower right')\n",
    "plt.plot([0, 1], [0, 1],'r--')\n",
    "plt.xlim([0, 1])\n",
    "plt.ylim([0, 1])\n",
    "plt.ylabel('True Positive Rate')\n",
    "plt.xlabel('False Positive Rate')\n",
    "plt.show()"
   ]
  },
  {
   "cell_type": "code",
   "execution_count": 64,
   "id": "5b2a87a5",
   "metadata": {},
   "outputs": [],
   "source": [
    "# fitting the LDA model\n",
    "\n",
    "lda = LinearDiscriminantAnalysis()\n",
    "lda.fit(X_train, y_train)\n",
    "y_pred = lda.predict(X_test)"
   ]
  },
  {
   "cell_type": "code",
   "execution_count": 65,
   "id": "7585efaa",
   "metadata": {},
   "outputs": [
    {
     "name": "stdout",
     "output_type": "stream",
     "text": [
      "0.7275\n",
      "0.7275\n",
      "0.7275\n"
     ]
    }
   ],
   "source": [
    "# metrics\n",
    "\n",
    "accuracy = accuracy_score(y_test, y_pred)\n",
    "precision = precision_score(y_test, y_pred, average = \"micro\")\n",
    "recall = recall_score(y_test, y_pred, average = \"micro\")\n",
    "print(accuracy)\n",
    "print(precision)\n",
    "print(recall)\n",
    "\n",
    "# An accuracy score of 0.73 shows the model is correct 0.73 overall.\n",
    "# A precision score of 0.73  shows the model is correct 0.73 when predicting the target class.\n",
    "# A recall score of 0.73 shows the model can find all objects of the target class 0.73 of the time."
   ]
  },
  {
   "cell_type": "code",
   "execution_count": 66,
   "id": "71755a85",
   "metadata": {},
   "outputs": [
    {
     "data": {
      "image/png": "[encoded data removed]",
      "text/plain": [
       "<Figure size 432x288 with 1 Axes>"
      ]
     },
     "metadata": {
      "needs_background": "light"
     },
     "output_type": "display_data"
    }
   ],
   "source": [
    "# creating the ROC/AUC plot\n",
    "\n",
    "probs = lda.predict_proba(X_test)\n",
    "preds = probs[:,1]\n",
    "fpr, tpr, threshold = metrics.roc_curve(y_test, preds)\n",
    "roc_auc = metrics.auc(fpr, tpr)\n",
    "\n",
    "plt.title('ROC/AUC')\n",
    "plt.plot(fpr, tpr, 'b', label = 'AUC = %0.2f' % roc_auc)\n",
    "plt.legend(loc = 'lower right')\n",
    "plt.plot([0, 1], [0, 1],'r--')\n",
    "plt.xlim([0, 1])\n",
    "plt.ylim([0, 1])\n",
    "plt.ylabel('True Positive Rate')\n",
    "plt.xlabel('False Positive Rate')\n",
    "plt.show()"
   ]
  },
  {
   "cell_type": "code",
   "execution_count": 67,
   "id": "1de47841",
   "metadata": {},
   "outputs": [],
   "source": [
    "# Part C - SMOTE"
   ]
  },
  {
   "cell_type": "code",
   "execution_count": 68,
   "id": "905e6293",
   "metadata": {},
   "outputs": [],
   "source": [
    "# training and test sets\n",
    "\n",
    "X = df.iloc[:,[0,1,2,3,4,5,6,7,8,9,10,11,12,13,14,15,17,18,19]]\n",
    "y = df[\"Def_ind\"]\n",
    "X_train, X_test, y_train, y_test = train_test_split(X, y, test_size=0.30, random_state=1)"
   ]
  },
  {
   "cell_type": "code",
   "execution_count": 69,
   "id": "63ba6fd9",
   "metadata": {},
   "outputs": [
    {
     "name": "stdout",
     "output_type": "stream",
     "text": [
      "Number observations X_train dataset:  (13999, 19)\n",
      "Number observations y_train dataset:  (13999,)\n",
      "Number observations X_test dataset:  (6000, 19)\n",
      "Number observations y_test dataset:  (6000,)\n"
     ]
    }
   ],
   "source": [
    "print(\"Number observations X_train dataset: \", X_train.shape) \n",
    "print(\"Number observations y_train dataset: \", y_train.shape) \n",
    "print(\"Number observations X_test dataset: \", X_test.shape) \n",
    "print(\"Number observations y_test dataset: \", y_test.shape) "
   ]
  },
  {
   "cell_type": "code",
   "execution_count": 70,
   "id": "ae93a244",
   "metadata": {},
   "outputs": [],
   "source": [
    "# using SMOTE to perform oversampling\n",
    "\n",
    "sm = SMOTE(random_state = 2) \n",
    "X_train_res, y_train_res = sm.fit_resample(X_train, y_train.ravel())"
   ]
  },
  {
   "cell_type": "code",
   "execution_count": 71,
   "id": "d34c3eeb",
   "metadata": {},
   "outputs": [
    {
     "name": "stdout",
     "output_type": "stream",
     "text": [
      "After OverSampling, the shape of train_X: (25278, 19)\n",
      "After OverSampling, the shape of train_y: (25278,) \n",
      "\n",
      "After OverSampling, counts of label '1': 12639\n",
      "After OverSampling, counts of label '0': 12639\n"
     ]
    }
   ],
   "source": [
    "print('After OverSampling, the shape of train_X: {}'.format(X_train_res.shape)) \n",
    "print('After OverSampling, the shape of train_y: {} \\n'.format(y_train_res.shape)) \n",
    "  \n",
    "print(\"After OverSampling, counts of label '1': {}\".format(sum(y_train_res == 1))) \n",
    "print(\"After OverSampling, counts of label '0': {}\".format(sum(y_train_res == 0)))"
   ]
  },
  {
   "cell_type": "code",
   "execution_count": 72,
   "id": "a20a7e9d",
   "metadata": {},
   "outputs": [],
   "source": [
    "# fitting the Logistic Regression Model\n",
    "\n",
    "lr = LogisticRegression()\n",
    "lr.fit(X_train_res, y_train_res.ravel())\n",
    "y_pred = lr.predict(X_test)"
   ]
  },
  {
   "cell_type": "code",
   "execution_count": 73,
   "id": "ba1dde6a",
   "metadata": {},
   "outputs": [
    {
     "name": "stdout",
     "output_type": "stream",
     "text": [
      "0.7456666666666667\n",
      "0.7456666666666667\n",
      "0.7456666666666667\n"
     ]
    }
   ],
   "source": [
    "# metrics\n",
    "\n",
    "accuracy = accuracy_score(y_test, y_pred)\n",
    "precision = precision_score(y_test, y_pred, average = \"micro\")\n",
    "recall = recall_score(y_test, y_pred, average = \"micro\")\n",
    "print(accuracy)\n",
    "print(precision)\n",
    "print(recall)\n",
    "\n",
    "# An accuracy score of 0.75 shows the model is correct 0.75 overall.\n",
    "# A precision score of 0.75 shows the model is correct 0.75 when predicting the target class.\n",
    "# A recall score of 0.75 shows the model can find all objects of the target class 0.75 of the time."
   ]
  },
  {
   "cell_type": "code",
   "execution_count": 74,
   "id": "bf908ef5",
   "metadata": {},
   "outputs": [
    {
     "data": {
      "image/png": "[encoded data removed]",
      "text/plain": [
       "<Figure size 432x288 with 1 Axes>"
      ]
     },
     "metadata": {
      "needs_background": "light"
     },
     "output_type": "display_data"
    }
   ],
   "source": [
    "# creating the ROC/AUC plot\n",
    "\n",
    "probs = lr.predict_proba(X_test)\n",
    "preds = probs[:,1]\n",
    "fpr, tpr, threshold = metrics.roc_curve(y_test, preds)\n",
    "roc_auc = metrics.auc(fpr, tpr)\n",
    "\n",
    "plt.title('ROC/AUC')\n",
    "plt.plot(fpr, tpr, 'b', label = 'AUC = %0.2f' % roc_auc)\n",
    "plt.legend(loc = 'lower right')\n",
    "plt.plot([0, 1], [0, 1],'r--')\n",
    "plt.xlim([0, 1])\n",
    "plt.ylim([0, 1])\n",
    "plt.ylabel('True Positive Rate')\n",
    "plt.xlabel('False Positive Rate')\n",
    "plt.show()"
   ]
  },
  {
   "cell_type": "code",
   "execution_count": 75,
   "id": "01162582",
   "metadata": {},
   "outputs": [],
   "source": [
    "# fitting the LDA model\n",
    "\n",
    "lda = LinearDiscriminantAnalysis()\n",
    "lda.fit(X_train_res, y_train_res.ravel())\n",
    "y_pred = lda.predict(X_test)"
   ]
  },
  {
   "cell_type": "code",
   "execution_count": null,
   "id": "92093dfb",
   "metadata": {},
   "outputs": [],
   "source": []
  },
  {
   "cell_type": "code",
   "execution_count": 76,
   "id": "357c431c",
   "metadata": {},
   "outputs": [
    {
     "name": "stdout",
     "output_type": "stream",
     "text": [
      "0.7095\n",
      "0.7095\n",
      "0.7095\n"
     ]
    }
   ],
   "source": [
    "# metrics\n",
    "\n",
    "accuracy = accuracy_score(y_test, y_pred)\n",
    "precision = precision_score(y_test, y_pred, average = \"micro\")\n",
    "recall = recall_score(y_test, y_pred, average = \"micro\")\n",
    "print(accuracy)\n",
    "print(precision)\n",
    "print(recall)\n",
    "\n",
    "# An accuracy score of 0.71 shows the model is correct 0.71 overall.\n",
    "# A precision score of 0.71 shows the model is correct 0.71 when predicting the target class.\n",
    "# A recall score of 0.71 shows the model can find all objects of the target class 0.71 of the time."
   ]
  },
  {
   "cell_type": "code",
   "execution_count": 77,
   "id": "2d802297",
   "metadata": {},
   "outputs": [
    {
     "data": {
      "image/png": "[encoded data removed]",
      "text/plain": [
       "<Figure size 432x288 with 1 Axes>"
      ]
     },
     "metadata": {
      "needs_background": "light"
     },
     "output_type": "display_data"
    }
   ],
   "source": [
    "# creating the ROC/AUC plot\n",
    "\n",
    "probs = lda.predict_proba(X_test)\n",
    "preds = probs[:,1]\n",
    "fpr, tpr, threshold = metrics.roc_curve(y_test, preds)\n",
    "roc_auc = metrics.auc(fpr, tpr)\n",
    "\n",
    "plt.title('ROC/AUC')\n",
    "plt.plot(fpr, tpr, 'b', label = 'AUC = %0.2f' % roc_auc)\n",
    "plt.legend(loc = 'lower right')\n",
    "plt.plot([0, 1], [0, 1],'r--')\n",
    "plt.xlim([0, 1])\n",
    "plt.ylim([0, 1])\n",
    "plt.ylabel('True Positive Rate')\n",
    "plt.xlabel('False Positive Rate')\n",
    "plt.show()"
   ]
  },
  {
   "cell_type": "code",
   "execution_count": 78,
   "id": "dad862c1",
   "metadata": {},
   "outputs": [],
   "source": [
    "# The LDA model on the undersampled data had the highest AUC value (0.81), so that is the best model."
   ]
  }
 ],
 "metadata": {
  "kernelspec": {
   "display_name": "Python 3 (ipykernel)",
   "language": "python",
   "name": "python3"
  },
  "language_info": {
   "codemirror_mode": {
    "name": "ipython",
    "version": 3
   },
   "file_extension": ".py",
   "mimetype": "text/x-python",
   "name": "python",
   "nbconvert_exporter": "python",
   "pygments_lexer": "ipython3",
   "version": "3.9.12"
  }
 },
 "nbformat": 4,
 "nbformat_minor": 5
}
