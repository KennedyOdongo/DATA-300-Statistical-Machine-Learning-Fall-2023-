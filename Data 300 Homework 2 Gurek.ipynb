{
 "cells": [
  {
   "cell_type": "markdown",
   "id": "5da96820",
   "metadata": {},
   "source": [
    "1. Three time series models that can be used for forecasting are Moving Averages, ARIMA models, and Neural Networks."
   ]
  },
  {
   "cell_type": "markdown",
   "id": "8a30b889",
   "metadata": {},
   "source": [
    "2. One real world application is the use of time series forecasting to predict future daily sales in retail stores, I work in retail and we are given a sales goal every day and every hour that is based on past data from days in past years, past seasons, etc. A second example would be the forecasting the weather, we know what the typical seasons look like from past years so we use that to predict what the weather will be like in the coming months."
   ]
  },
  {
   "cell_type": "markdown",
   "id": "94c76de0",
   "metadata": {},
   "source": [
    "3. The difference between a time series and panel data set is that a time series data set only has one variable recorded over different times, while a panel data set has more than one variable that is being recorded over different times."
   ]
  },
  {
   "cell_type": "markdown",
   "id": "085da735",
   "metadata": {},
   "source": [
    "4. The major difference in selecting training sets in time series machine learning tasks as compared to regression/ classification tasks is that you do not shuffle the terms before selecting. If they are shuffled then you risk using future data to predict past data, which just isn’t logical."
   ]
  },
  {
   "cell_type": "markdown",
   "id": "bb7f95bf",
   "metadata": {},
   "source": [
    "5. a. Stationarity is when there is no predictable trend or pattern within the data.\n",
    "\n",
    "b. Differencing is a method of transforming the data by subtracting the current value in the series from a previous one or a lagged value, this process can be used to make the data stationary.\n",
    "\n",
    "c. White noise is a series of observations that are independently and identically distributed with a mean of 0 and a constant variance.\n",
    "\n",
    "d. A Random Walk is a series of observations where the current observation is equal to the previous observation with a random step up/down.  "
   ]
  },
  {
   "cell_type": "markdown",
   "id": "cbeeec64",
   "metadata": {},
   "source": [
    "6. a. This equation would be an example of an ARMA model, which uses the combination of past observations and past errors for prediction. The c and 𝜖𝜏 terms are the equivalence of intercepts, the c being the value with no previous p stamps, and the 𝜖𝜏 being the expected error term at that time. The first summation equation represents the autoregressive(AR) portion of the model, or the part that uses previous p-stamps to predict the current time’s stamp. The Øi in this equation is the first order autocorrelation coefficient. The second summation represents the Moving average(MA) portion of the model, or the part that uses past errors to predict the current value at time t. The θi in this equation is the coefficient for the lag number that is used, lag t. The 𝜀t-1 is the first order moving average paramter. Thus this equation would give us the predicted value of X at time t when you use 3 lags of autoregression and 4 lags of moving averages for your prediction.\n",
    "\n",
    "b. No, we cannot tell from the above equation if it has been differenced or not. At this point the data would have already been plotted and differenced accordingly before building the model.\n",
    "\n",
    "c. The autoregressive order would be AR(3) and the Moving Average order would be MA(4).\n",
    "\n",
    "d. You decide the AR order by creating a PACF, or Partial Autocorrelation Function plot, this plot lets you decide how many lags to use based on how many points are significant as shown on the plot. If the first and the third points are significant, then you include 3 lags. You decide the MA order by creating an ACF, or Autocorrelation Function plot, this plot functions the same as a PACF plot so the lag order is decided by the amount of significant points in the same way as the AR order with the PACF plot. "
   ]
  },
  {
   "cell_type": "code",
   "execution_count": null,
   "id": "ae8a912b",
   "metadata": {},
   "outputs": [],
   "source": []
  }
 ],
 "metadata": {
  "kernelspec": {
   "display_name": "Python 3 (ipykernel)",
   "language": "python",
   "name": "python3"
  },
  "language_info": {
   "codemirror_mode": {
    "name": "ipython",
    "version": 3
   },
   "file_extension": ".py",
   "mimetype": "text/x-python",
   "name": "python",
   "nbconvert_exporter": "python",
   "pygments_lexer": "ipython3",
   "version": "3.9.13"
  }
 },
 "nbformat": 4,
 "nbformat_minor": 5
}
