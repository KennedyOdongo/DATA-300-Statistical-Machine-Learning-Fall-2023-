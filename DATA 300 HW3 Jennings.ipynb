{
 "cells": [
  {
   "cell_type": "code",
   "execution_count": 54,
   "id": "92660baa",
   "metadata": {},
   "outputs": [],
   "source": [
    "#conda v 22.9.0\n",
    "#Python v 3.9.12\n",
    "import numpy as np # v. 1.21.5\n",
    "import sklearn # v. 0.0\n",
    "import pandas as pd # v. 1.4.2\n",
    "import ydata_profiling as ypp #v. 4.5.1\n",
    "import matplotlib.pyplot as plt # v. 3.5.1\n",
    "import statsmodels.api as sm # v. 0.13.2\n",
    "import pandas as pd #v. 1.4.2\n",
    "import pmdarima as pm #v. 2.0.3\n",
    "import sweetviz as sv #v. 2.2.1\n",
    "import warnings as ww \n",
    "import statsmodels.tsa.stattools as stattools # v. 0.13.2\n",
    "import seaborn as sns\n",
    "\n",
    "from statsmodels.tsa.stattools import adfuller # v. 0.13.2\n",
    "from statsmodels.graphics.tsaplots import plot_acf, plot_pacf # v. 0.13.2\n",
    "from statsmodels.tsa.arima_model import ARIMA # v. 0.13.2\n",
    "\n",
    "from sklearn.model_selection import train_test_split # v. 0.0\n",
    "from sklearn.metrics import mean_absolute_error # v. 0.0\n",
    "from sklearn.metrics import mean_squared_error # v. 0.0\n",
    "from sklearn.metrics import mean_absolute_percentage_error # v. 0.0\n",
    "from sklearn.linear_model import LogisticRegression # v. 0.0\n",
    "from sklearn.metrics import accuracy_score, precision_score, recall_score # v. 0.0\n",
    "from sklearn.metrics import confusion_matrix # v. 0.0\n",
    "from sklearn.discriminant_analysis import LinearDiscriminantAnalysis # v. 0.0\n",
    "from sklearn.metrics import roc_auc_score, roc_curve # v. 0.0\n",
    "from sklearn.preprocessing import LabelBinarizer # v. 0.0\n",
    "\n",
    "ww.filterwarnings(\"ignore\")\n",
    "%matplotlib inline"
   ]
  },
  {
   "cell_type": "code",
   "execution_count": 2,
   "id": "ea9cc970",
   "metadata": {},
   "outputs": [],
   "source": [
    "df = pd.read_csv('/Users/colejennings/Downloads/loan_default_data_set.csv')"
   ]
  },
  {
   "cell_type": "code",
   "execution_count": 3,
   "id": "fbb823db",
   "metadata": {},
   "outputs": [
    {
     "data": {
      "text/html": [
       "<div>\n",
       "<style scoped>\n",
       "    .dataframe tbody tr th:only-of-type {\n",
       "        vertical-align: middle;\n",
       "    }\n",
       "\n",
       "    .dataframe tbody tr th {\n",
       "        vertical-align: top;\n",
       "    }\n",
       "\n",
       "    .dataframe thead th {\n",
       "        text-align: right;\n",
       "    }\n",
       "</style>\n",
       "<table border=\"1\" class=\"dataframe\">\n",
       "  <thead>\n",
       "    <tr style=\"text-align: right;\">\n",
       "      <th></th>\n",
       "      <th>tot_balance</th>\n",
       "      <th>avg_bal_cards</th>\n",
       "      <th>credit_age</th>\n",
       "      <th>credit_age_good_account</th>\n",
       "      <th>credit_card_age</th>\n",
       "      <th>num_acc_30d_past_due_12_months</th>\n",
       "      <th>num_acc_30d_past_due_6_months</th>\n",
       "      <th>num_mortgage_currently_past_due</th>\n",
       "      <th>tot_amount_currently_past_due</th>\n",
       "      <th>num_inq_12_month</th>\n",
       "      <th>...</th>\n",
       "      <th>num_card_12_month</th>\n",
       "      <th>num_auto_ 36_month</th>\n",
       "      <th>uti_open_card</th>\n",
       "      <th>pct_over_50_uti</th>\n",
       "      <th>uti_max_credit_line</th>\n",
       "      <th>pct_card_over_50_uti</th>\n",
       "      <th>ind_XYZ</th>\n",
       "      <th>rep_income</th>\n",
       "      <th>rep_education</th>\n",
       "      <th>Def_ind</th>\n",
       "    </tr>\n",
       "  </thead>\n",
       "  <tbody>\n",
       "    <tr>\n",
       "      <th>0</th>\n",
       "      <td>102956.1101</td>\n",
       "      <td>14819.05740</td>\n",
       "      <td>238</td>\n",
       "      <td>104</td>\n",
       "      <td>264</td>\n",
       "      <td>0</td>\n",
       "      <td>0</td>\n",
       "      <td>0</td>\n",
       "      <td>0.0</td>\n",
       "      <td>0</td>\n",
       "      <td>...</td>\n",
       "      <td>1</td>\n",
       "      <td>0</td>\n",
       "      <td>0.366737</td>\n",
       "      <td>0.342183</td>\n",
       "      <td>0.513934</td>\n",
       "      <td>0.550866</td>\n",
       "      <td>0</td>\n",
       "      <td>118266.32130</td>\n",
       "      <td>college</td>\n",
       "      <td>0</td>\n",
       "    </tr>\n",
       "    <tr>\n",
       "      <th>1</th>\n",
       "      <td>132758.7258</td>\n",
       "      <td>18951.93455</td>\n",
       "      <td>384</td>\n",
       "      <td>197</td>\n",
       "      <td>371</td>\n",
       "      <td>0</td>\n",
       "      <td>0</td>\n",
       "      <td>0</td>\n",
       "      <td>0.0</td>\n",
       "      <td>0</td>\n",
       "      <td>...</td>\n",
       "      <td>0</td>\n",
       "      <td>0</td>\n",
       "      <td>0.490809</td>\n",
       "      <td>0.540671</td>\n",
       "      <td>0.418016</td>\n",
       "      <td>NaN</td>\n",
       "      <td>0</td>\n",
       "      <td>89365.05765</td>\n",
       "      <td>college</td>\n",
       "      <td>0</td>\n",
       "    </tr>\n",
       "    <tr>\n",
       "      <th>2</th>\n",
       "      <td>124658.9174</td>\n",
       "      <td>15347.92969</td>\n",
       "      <td>277</td>\n",
       "      <td>110</td>\n",
       "      <td>288</td>\n",
       "      <td>0</td>\n",
       "      <td>0</td>\n",
       "      <td>0</td>\n",
       "      <td>0.0</td>\n",
       "      <td>0</td>\n",
       "      <td>...</td>\n",
       "      <td>0</td>\n",
       "      <td>0</td>\n",
       "      <td>0.359074</td>\n",
       "      <td>0.338560</td>\n",
       "      <td>0.341627</td>\n",
       "      <td>0.451417</td>\n",
       "      <td>0</td>\n",
       "      <td>201365.12130</td>\n",
       "      <td>college</td>\n",
       "      <td>0</td>\n",
       "    </tr>\n",
       "    <tr>\n",
       "      <th>3</th>\n",
       "      <td>133968.5369</td>\n",
       "      <td>14050.71334</td>\n",
       "      <td>375</td>\n",
       "      <td>224</td>\n",
       "      <td>343</td>\n",
       "      <td>0</td>\n",
       "      <td>0</td>\n",
       "      <td>0</td>\n",
       "      <td>0.0</td>\n",
       "      <td>2</td>\n",
       "      <td>...</td>\n",
       "      <td>1</td>\n",
       "      <td>0</td>\n",
       "      <td>0.700379</td>\n",
       "      <td>0.683589</td>\n",
       "      <td>0.542940</td>\n",
       "      <td>0.607843</td>\n",
       "      <td>0</td>\n",
       "      <td>191794.48550</td>\n",
       "      <td>college</td>\n",
       "      <td>0</td>\n",
       "    </tr>\n",
       "    <tr>\n",
       "      <th>4</th>\n",
       "      <td>143601.8017</td>\n",
       "      <td>14858.51527</td>\n",
       "      <td>374</td>\n",
       "      <td>155</td>\n",
       "      <td>278</td>\n",
       "      <td>0</td>\n",
       "      <td>0</td>\n",
       "      <td>0</td>\n",
       "      <td>0.0</td>\n",
       "      <td>0</td>\n",
       "      <td>...</td>\n",
       "      <td>0</td>\n",
       "      <td>0</td>\n",
       "      <td>0.647351</td>\n",
       "      <td>0.510812</td>\n",
       "      <td>0.632934</td>\n",
       "      <td>0.573680</td>\n",
       "      <td>0</td>\n",
       "      <td>161465.36790</td>\n",
       "      <td>graduate</td>\n",
       "      <td>0</td>\n",
       "    </tr>\n",
       "  </tbody>\n",
       "</table>\n",
       "<p>5 rows × 21 columns</p>\n",
       "</div>"
      ],
      "text/plain": [
       "   tot_balance  avg_bal_cards  credit_age  credit_age_good_account  \\\n",
       "0  102956.1101    14819.05740         238                      104   \n",
       "1  132758.7258    18951.93455         384                      197   \n",
       "2  124658.9174    15347.92969         277                      110   \n",
       "3  133968.5369    14050.71334         375                      224   \n",
       "4  143601.8017    14858.51527         374                      155   \n",
       "\n",
       "   credit_card_age  num_acc_30d_past_due_12_months  \\\n",
       "0              264                               0   \n",
       "1              371                               0   \n",
       "2              288                               0   \n",
       "3              343                               0   \n",
       "4              278                               0   \n",
       "\n",
       "   num_acc_30d_past_due_6_months  num_mortgage_currently_past_due  \\\n",
       "0                              0                                0   \n",
       "1                              0                                0   \n",
       "2                              0                                0   \n",
       "3                              0                                0   \n",
       "4                              0                                0   \n",
       "\n",
       "   tot_amount_currently_past_due  num_inq_12_month  ...  num_card_12_month  \\\n",
       "0                            0.0                 0  ...                  1   \n",
       "1                            0.0                 0  ...                  0   \n",
       "2                            0.0                 0  ...                  0   \n",
       "3                            0.0                 2  ...                  1   \n",
       "4                            0.0                 0  ...                  0   \n",
       "\n",
       "   num_auto_ 36_month  uti_open_card  pct_over_50_uti  uti_max_credit_line  \\\n",
       "0                   0       0.366737         0.342183             0.513934   \n",
       "1                   0       0.490809         0.540671             0.418016   \n",
       "2                   0       0.359074         0.338560             0.341627   \n",
       "3                   0       0.700379         0.683589             0.542940   \n",
       "4                   0       0.647351         0.510812             0.632934   \n",
       "\n",
       "   pct_card_over_50_uti  ind_XYZ    rep_income  rep_education Def_ind  \n",
       "0              0.550866        0  118266.32130        college       0  \n",
       "1                   NaN        0   89365.05765        college       0  \n",
       "2              0.451417        0  201365.12130        college       0  \n",
       "3              0.607843        0  191794.48550        college       0  \n",
       "4              0.573680        0  161465.36790       graduate       0  \n",
       "\n",
       "[5 rows x 21 columns]"
      ]
     },
     "execution_count": 3,
     "metadata": {},
     "output_type": "execute_result"
    }
   ],
   "source": [
    "df.head()"
   ]
  },
  {
   "cell_type": "code",
   "execution_count": 4,
   "id": "b141b1b6",
   "metadata": {},
   "outputs": [
    {
     "data": {
      "text/plain": [
       "(Index(['tot_balance', 'avg_bal_cards', 'credit_age', 'credit_age_good_account',\n",
       "        'credit_card_age', 'num_acc_30d_past_due_12_months',\n",
       "        'num_acc_30d_past_due_6_months', 'num_mortgage_currently_past_due',\n",
       "        'tot_amount_currently_past_due', 'num_inq_12_month',\n",
       "        'num_card_inq_24_month', 'num_card_12_month', 'num_auto_ 36_month',\n",
       "        'uti_open_card', 'pct_over_50_uti', 'uti_max_credit_line',\n",
       "        'pct_card_over_50_uti', 'ind_XYZ', 'rep_income', 'rep_education',\n",
       "        'Def_ind'],\n",
       "       dtype='object'),\n",
       " (20000, 21),\n",
       " tot_balance                        float64\n",
       " avg_bal_cards                      float64\n",
       " credit_age                           int64\n",
       " credit_age_good_account              int64\n",
       " credit_card_age                      int64\n",
       " num_acc_30d_past_due_12_months       int64\n",
       " num_acc_30d_past_due_6_months        int64\n",
       " num_mortgage_currently_past_due      int64\n",
       " tot_amount_currently_past_due      float64\n",
       " num_inq_12_month                     int64\n",
       " num_card_inq_24_month                int64\n",
       " num_card_12_month                    int64\n",
       " num_auto_ 36_month                   int64\n",
       " uti_open_card                      float64\n",
       " pct_over_50_uti                    float64\n",
       " uti_max_credit_line                float64\n",
       " pct_card_over_50_uti               float64\n",
       " ind_XYZ                              int64\n",
       " rep_income                         float64\n",
       " rep_education                       object\n",
       " Def_ind                              int64\n",
       " dtype: object)"
      ]
     },
     "execution_count": 4,
     "metadata": {},
     "output_type": "execute_result"
    }
   ],
   "source": [
    "df.columns, df.shape, df.dtypes #20,000 rows, 21 columns"
   ]
  },
  {
   "cell_type": "code",
   "execution_count": 5,
   "id": "11d2066f",
   "metadata": {},
   "outputs": [
    {
     "data": {
      "text/plain": [
       "tot_balance                           0\n",
       "avg_bal_cards                         0\n",
       "credit_age                            0\n",
       "credit_age_good_account               0\n",
       "credit_card_age                       0\n",
       "num_acc_30d_past_due_12_months        0\n",
       "num_acc_30d_past_due_6_months         0\n",
       "num_mortgage_currently_past_due       0\n",
       "tot_amount_currently_past_due         0\n",
       "num_inq_12_month                      0\n",
       "num_card_inq_24_month                 0\n",
       "num_card_12_month                     0\n",
       "num_auto_ 36_month                    0\n",
       "uti_open_card                         0\n",
       "pct_over_50_uti                       0\n",
       "uti_max_credit_line                   0\n",
       "pct_card_over_50_uti               1958\n",
       "ind_XYZ                               0\n",
       "rep_income                         1559\n",
       "rep_education                         1\n",
       "Def_ind                               0\n",
       "dtype: int64"
      ]
     },
     "execution_count": 5,
     "metadata": {},
     "output_type": "execute_result"
    }
   ],
   "source": [
    "df.isna().sum() #pct_card_over_50_uti = 1958 missing values, rep_income = 1559 missing values, rep_education = 1 missing value"
   ]
  },
  {
   "cell_type": "code",
   "execution_count": 6,
   "id": "ba486d63",
   "metadata": {},
   "outputs": [],
   "source": [
    "df['rep_education'].value_counts()\n",
    "#replace nulls with \"college\" since it is the mode of rep_education\n",
    "df['rep_education'].fillna('college', inplace=True)"
   ]
  },
  {
   "cell_type": "code",
   "execution_count": 7,
   "id": "590ac710",
   "metadata": {},
   "outputs": [],
   "source": [
    "# Calculate the median \n",
    "median_pct_card_over_50_uti = df['pct_card_over_50_uti'].median()\n",
    "median_rep_income = df['rep_income'].median()\n",
    "\n",
    "\n",
    "# Replace null values with the respective medians\n",
    "df['pct_card_over_50_uti'].fillna(median_pct_card_over_50_uti, inplace=True)\n",
    "df['rep_income'].fillna(median_rep_income, inplace=True)"
   ]
  },
  {
   "cell_type": "code",
   "execution_count": 8,
   "id": "4c40af50",
   "metadata": {},
   "outputs": [
    {
     "data": {
      "text/plain": [
       "tot_balance                        0\n",
       "avg_bal_cards                      0\n",
       "credit_age                         0\n",
       "credit_age_good_account            0\n",
       "credit_card_age                    0\n",
       "num_acc_30d_past_due_12_months     0\n",
       "num_acc_30d_past_due_6_months      0\n",
       "num_mortgage_currently_past_due    0\n",
       "tot_amount_currently_past_due      0\n",
       "num_inq_12_month                   0\n",
       "num_card_inq_24_month              0\n",
       "num_card_12_month                  0\n",
       "num_auto_ 36_month                 0\n",
       "uti_open_card                      0\n",
       "pct_over_50_uti                    0\n",
       "uti_max_credit_line                0\n",
       "pct_card_over_50_uti               0\n",
       "ind_XYZ                            0\n",
       "rep_income                         0\n",
       "rep_education                      0\n",
       "Def_ind                            0\n",
       "dtype: int64"
      ]
     },
     "execution_count": 8,
     "metadata": {},
     "output_type": "execute_result"
    }
   ],
   "source": [
    "df.isna().sum() #replaced all null values successfully"
   ]
  },
  {
   "cell_type": "code",
   "execution_count": 9,
   "id": "69cafc6e",
   "metadata": {},
   "outputs": [
    {
     "data": {
      "text/plain": [
       "college        0.6069\n",
       "high_school    0.2657\n",
       "graduate       0.1203\n",
       "other          0.0071\n",
       "Name: rep_education, dtype: float64"
      ]
     },
     "execution_count": 9,
     "metadata": {},
     "output_type": "execute_result"
    }
   ],
   "source": [
    "df['rep_education'].value_counts(normalize = True)\n",
    "#1b. graduate level education is underrepresented in the data as the proportion of graduate level in the data is less than 1/2 the proportion of high school and less than 1/4 the proportion of college"
   ]
  },
  {
   "cell_type": "code",
   "execution_count": 10,
   "id": "46bd7473",
   "metadata": {},
   "outputs": [
    {
     "data": {
      "text/plain": [
       "0    0.9\n",
       "1    0.1\n",
       "Name: Def_ind, dtype: float64"
      ]
     },
     "execution_count": 10,
     "metadata": {},
     "output_type": "execute_result"
    }
   ],
   "source": [
    "df['Def_ind'].value_counts(normalize = True)\n",
    "#1c. The class of observations that defaulted are underrepresented. The classes are not balanced."
   ]
  },
  {
   "cell_type": "code",
   "execution_count": 11,
   "id": "351dbeec",
   "metadata": {},
   "outputs": [
    {
     "data": {
      "text/plain": [
       "<AxesSubplot:xlabel='rep_income', ylabel='Density'>"
      ]
     },
     "execution_count": 11,
     "metadata": {},
     "output_type": "execute_result"
    },
    {
     "data": {
      "image/png": "[encoded data removed]",
      "text/plain": [
       "<Figure size 432x288 with 1 Axes>"
      ]
     },
     "metadata": {
      "needs_background": "light"
     },
     "output_type": "display_data"
    }
   ],
   "source": [
    "sns.distplot(df['rep_income'])\n",
    "#1d. rep_income is approximately normally distributed"
   ]
  },
  {
   "cell_type": "code",
   "execution_count": 12,
   "id": "82b82449",
   "metadata": {},
   "outputs": [
    {
     "data": {
      "text/plain": [
       "rep_education  Def_ind\n",
       "college        0          0.903032\n",
       "               1          0.096968\n",
       "graduate       0          0.918121\n",
       "               1          0.081879\n",
       "high_school    0          0.884268\n",
       "               1          0.115732\n",
       "other          0          0.922535\n",
       "               1          0.077465\n",
       "Name: Def_ind, dtype: float64"
      ]
     },
     "execution_count": 12,
     "metadata": {},
     "output_type": "execute_result"
    }
   ],
   "source": [
    "df.groupby('rep_education')['Def_ind'].value_counts(normalize=True)\n",
    "#1e. High School or below education level is most likely to default on their loan (11.57% likely)"
   ]
  },
  {
   "cell_type": "code",
   "execution_count": 13,
   "id": "d94b5a66",
   "metadata": {},
   "outputs": [
    {
     "data": {
      "application/vnd.jupyter.widget-view+json": {
       "model_id": "9fe12428c4864a4487b4f8ac10ace604",
       "version_major": 2,
       "version_minor": 0
      },
      "text/plain": [
       "                                             |      | [  0%]   00:00 -> (? left)"
      ]
     },
     "metadata": {},
     "output_type": "display_data"
    }
   ],
   "source": [
    "report = sv.analyze(df)"
   ]
  },
  {
   "cell_type": "code",
   "execution_count": 14,
   "id": "8cc7d141",
   "metadata": {},
   "outputs": [
    {
     "name": "stdout",
     "output_type": "stream",
     "text": [
      "Report SWEETVIZ_REPORT.html was generated! NOTEBOOK/COLAB USERS: the web browser MAY not pop up, regardless, the report IS saved in your notebook/colab files.\n"
     ]
    }
   ],
   "source": [
    "report.show_html()"
   ]
  },
  {
   "cell_type": "code",
   "execution_count": 15,
   "id": "f4bc1d1e",
   "metadata": {},
   "outputs": [],
   "source": [
    "#Have to convert rep_education into binary variables\n",
    "df = pd.get_dummies(df, columns=['rep_education'], prefix=['education'])"
   ]
  },
  {
   "cell_type": "code",
   "execution_count": 16,
   "id": "c4ce65ae",
   "metadata": {
    "scrolled": true
   },
   "outputs": [
    {
     "data": {
      "text/plain": [
       "Index(['tot_balance', 'avg_bal_cards', 'credit_age', 'credit_age_good_account',\n",
       "       'credit_card_age', 'num_acc_30d_past_due_12_months',\n",
       "       'num_acc_30d_past_due_6_months', 'num_mortgage_currently_past_due',\n",
       "       'tot_amount_currently_past_due', 'num_inq_12_month',\n",
       "       'num_card_inq_24_month', 'num_card_12_month', 'num_auto_ 36_month',\n",
       "       'uti_open_card', 'pct_over_50_uti', 'uti_max_credit_line',\n",
       "       'pct_card_over_50_uti', 'ind_XYZ', 'rep_income', 'Def_ind',\n",
       "       'education_college', 'education_graduate', 'education_high_school',\n",
       "       'education_other'],\n",
       "      dtype='object')"
      ]
     },
     "execution_count": 16,
     "metadata": {},
     "output_type": "execute_result"
    }
   ],
   "source": [
    "df.columns"
   ]
  },
  {
   "cell_type": "code",
   "execution_count": 17,
   "id": "089f0095",
   "metadata": {},
   "outputs": [
    {
     "data": {
      "text/html": [
       "<div>\n",
       "<style scoped>\n",
       "    .dataframe tbody tr th:only-of-type {\n",
       "        vertical-align: middle;\n",
       "    }\n",
       "\n",
       "    .dataframe tbody tr th {\n",
       "        vertical-align: top;\n",
       "    }\n",
       "\n",
       "    .dataframe thead th {\n",
       "        text-align: right;\n",
       "    }\n",
       "</style>\n",
       "<table border=\"1\" class=\"dataframe\">\n",
       "  <thead>\n",
       "    <tr style=\"text-align: right;\">\n",
       "      <th></th>\n",
       "      <th>tot_balance</th>\n",
       "      <th>avg_bal_cards</th>\n",
       "      <th>credit_age</th>\n",
       "      <th>credit_age_good_account</th>\n",
       "      <th>credit_card_age</th>\n",
       "      <th>num_acc_30d_past_due_12_months</th>\n",
       "      <th>num_acc_30d_past_due_6_months</th>\n",
       "      <th>num_mortgage_currently_past_due</th>\n",
       "      <th>tot_amount_currently_past_due</th>\n",
       "      <th>num_inq_12_month</th>\n",
       "      <th>...</th>\n",
       "      <th>pct_over_50_uti</th>\n",
       "      <th>uti_max_credit_line</th>\n",
       "      <th>pct_card_over_50_uti</th>\n",
       "      <th>ind_XYZ</th>\n",
       "      <th>rep_income</th>\n",
       "      <th>Def_ind</th>\n",
       "      <th>education_college</th>\n",
       "      <th>education_graduate</th>\n",
       "      <th>education_high_school</th>\n",
       "      <th>education_other</th>\n",
       "    </tr>\n",
       "  </thead>\n",
       "  <tbody>\n",
       "    <tr>\n",
       "      <th>0</th>\n",
       "      <td>102956.1101</td>\n",
       "      <td>14819.05740</td>\n",
       "      <td>238</td>\n",
       "      <td>104</td>\n",
       "      <td>264</td>\n",
       "      <td>0</td>\n",
       "      <td>0</td>\n",
       "      <td>0</td>\n",
       "      <td>0.0</td>\n",
       "      <td>0</td>\n",
       "      <td>...</td>\n",
       "      <td>0.342183</td>\n",
       "      <td>0.513934</td>\n",
       "      <td>0.550866</td>\n",
       "      <td>0</td>\n",
       "      <td>118266.32130</td>\n",
       "      <td>0</td>\n",
       "      <td>1</td>\n",
       "      <td>0</td>\n",
       "      <td>0</td>\n",
       "      <td>0</td>\n",
       "    </tr>\n",
       "    <tr>\n",
       "      <th>1</th>\n",
       "      <td>132758.7258</td>\n",
       "      <td>18951.93455</td>\n",
       "      <td>384</td>\n",
       "      <td>197</td>\n",
       "      <td>371</td>\n",
       "      <td>0</td>\n",
       "      <td>0</td>\n",
       "      <td>0</td>\n",
       "      <td>0.0</td>\n",
       "      <td>0</td>\n",
       "      <td>...</td>\n",
       "      <td>0.540671</td>\n",
       "      <td>0.418016</td>\n",
       "      <td>0.551765</td>\n",
       "      <td>0</td>\n",
       "      <td>89365.05765</td>\n",
       "      <td>0</td>\n",
       "      <td>1</td>\n",
       "      <td>0</td>\n",
       "      <td>0</td>\n",
       "      <td>0</td>\n",
       "    </tr>\n",
       "    <tr>\n",
       "      <th>2</th>\n",
       "      <td>124658.9174</td>\n",
       "      <td>15347.92969</td>\n",
       "      <td>277</td>\n",
       "      <td>110</td>\n",
       "      <td>288</td>\n",
       "      <td>0</td>\n",
       "      <td>0</td>\n",
       "      <td>0</td>\n",
       "      <td>0.0</td>\n",
       "      <td>0</td>\n",
       "      <td>...</td>\n",
       "      <td>0.338560</td>\n",
       "      <td>0.341627</td>\n",
       "      <td>0.451417</td>\n",
       "      <td>0</td>\n",
       "      <td>201365.12130</td>\n",
       "      <td>0</td>\n",
       "      <td>1</td>\n",
       "      <td>0</td>\n",
       "      <td>0</td>\n",
       "      <td>0</td>\n",
       "    </tr>\n",
       "    <tr>\n",
       "      <th>3</th>\n",
       "      <td>133968.5369</td>\n",
       "      <td>14050.71334</td>\n",
       "      <td>375</td>\n",
       "      <td>224</td>\n",
       "      <td>343</td>\n",
       "      <td>0</td>\n",
       "      <td>0</td>\n",
       "      <td>0</td>\n",
       "      <td>0.0</td>\n",
       "      <td>2</td>\n",
       "      <td>...</td>\n",
       "      <td>0.683589</td>\n",
       "      <td>0.542940</td>\n",
       "      <td>0.607843</td>\n",
       "      <td>0</td>\n",
       "      <td>191794.48550</td>\n",
       "      <td>0</td>\n",
       "      <td>1</td>\n",
       "      <td>0</td>\n",
       "      <td>0</td>\n",
       "      <td>0</td>\n",
       "    </tr>\n",
       "    <tr>\n",
       "      <th>4</th>\n",
       "      <td>143601.8017</td>\n",
       "      <td>14858.51527</td>\n",
       "      <td>374</td>\n",
       "      <td>155</td>\n",
       "      <td>278</td>\n",
       "      <td>0</td>\n",
       "      <td>0</td>\n",
       "      <td>0</td>\n",
       "      <td>0.0</td>\n",
       "      <td>0</td>\n",
       "      <td>...</td>\n",
       "      <td>0.510812</td>\n",
       "      <td>0.632934</td>\n",
       "      <td>0.573680</td>\n",
       "      <td>0</td>\n",
       "      <td>161465.36790</td>\n",
       "      <td>0</td>\n",
       "      <td>0</td>\n",
       "      <td>1</td>\n",
       "      <td>0</td>\n",
       "      <td>0</td>\n",
       "    </tr>\n",
       "  </tbody>\n",
       "</table>\n",
       "<p>5 rows × 24 columns</p>\n",
       "</div>"
      ],
      "text/plain": [
       "   tot_balance  avg_bal_cards  credit_age  credit_age_good_account  \\\n",
       "0  102956.1101    14819.05740         238                      104   \n",
       "1  132758.7258    18951.93455         384                      197   \n",
       "2  124658.9174    15347.92969         277                      110   \n",
       "3  133968.5369    14050.71334         375                      224   \n",
       "4  143601.8017    14858.51527         374                      155   \n",
       "\n",
       "   credit_card_age  num_acc_30d_past_due_12_months  \\\n",
       "0              264                               0   \n",
       "1              371                               0   \n",
       "2              288                               0   \n",
       "3              343                               0   \n",
       "4              278                               0   \n",
       "\n",
       "   num_acc_30d_past_due_6_months  num_mortgage_currently_past_due  \\\n",
       "0                              0                                0   \n",
       "1                              0                                0   \n",
       "2                              0                                0   \n",
       "3                              0                                0   \n",
       "4                              0                                0   \n",
       "\n",
       "   tot_amount_currently_past_due  num_inq_12_month  ...  pct_over_50_uti  \\\n",
       "0                            0.0                 0  ...         0.342183   \n",
       "1                            0.0                 0  ...         0.540671   \n",
       "2                            0.0                 0  ...         0.338560   \n",
       "3                            0.0                 2  ...         0.683589   \n",
       "4                            0.0                 0  ...         0.510812   \n",
       "\n",
       "   uti_max_credit_line  pct_card_over_50_uti  ind_XYZ    rep_income  Def_ind  \\\n",
       "0             0.513934              0.550866        0  118266.32130        0   \n",
       "1             0.418016              0.551765        0   89365.05765        0   \n",
       "2             0.341627              0.451417        0  201365.12130        0   \n",
       "3             0.542940              0.607843        0  191794.48550        0   \n",
       "4             0.632934              0.573680        0  161465.36790        0   \n",
       "\n",
       "   education_college  education_graduate  education_high_school  \\\n",
       "0                  1                   0                      0   \n",
       "1                  1                   0                      0   \n",
       "2                  1                   0                      0   \n",
       "3                  1                   0                      0   \n",
       "4                  0                   1                      0   \n",
       "\n",
       "   education_other  \n",
       "0                0  \n",
       "1                0  \n",
       "2                0  \n",
       "3                0  \n",
       "4                0  \n",
       "\n",
       "[5 rows x 24 columns]"
      ]
     },
     "execution_count": 17,
     "metadata": {},
     "output_type": "execute_result"
    }
   ],
   "source": [
    "df.head()"
   ]
  },
  {
   "cell_type": "code",
   "execution_count": 18,
   "id": "c39df6a7",
   "metadata": {},
   "outputs": [],
   "source": [
    "#1f. There appears to be multicollinearity between variables. For example num_card_inq_24_month has a 0.91 correlation ratio with num_inq_12_month\n",
    "# suggesting there might be multicollinearity"
   ]
  },
  {
   "cell_type": "code",
   "execution_count": 19,
   "id": "4abf23d5",
   "metadata": {},
   "outputs": [],
   "source": [
    "y = df[\"Def_ind\"]"
   ]
  },
  {
   "cell_type": "code",
   "execution_count": 20,
   "id": "25b66b52",
   "metadata": {},
   "outputs": [],
   "source": [
    "X = df.loc[:, df.columns != \"Def_ind\"] # I want all columns except the Def_ind column which is the response variable"
   ]
  },
  {
   "cell_type": "code",
   "execution_count": 21,
   "id": "1a92b86e",
   "metadata": {},
   "outputs": [],
   "source": [
    "X_train, X_test, y_train, y_test = train_test_split(X, y, test_size=0.3, random_state=4) #split data into training and yest sets"
   ]
  },
  {
   "cell_type": "code",
   "execution_count": 46,
   "id": "393e103f",
   "metadata": {},
   "outputs": [
    {
     "data": {
      "text/html": [
       "<style>#sk-container-id-2 {color: black;}#sk-container-id-2 pre{padding: 0;}#sk-container-id-2 div.sk-toggleable {background-color: white;}#sk-container-id-2 label.sk-toggleable__label {cursor: pointer;display: block;width: 100%;margin-bottom: 0;padding: 0.3em;box-sizing: border-box;text-align: center;}#sk-container-id-2 label.sk-toggleable__label-arrow:before {content: \"▸\";float: left;margin-right: 0.25em;color: #696969;}#sk-container-id-2 label.sk-toggleable__label-arrow:hover:before {color: black;}#sk-container-id-2 div.sk-estimator:hover label.sk-toggleable__label-arrow:before {color: black;}#sk-container-id-2 div.sk-toggleable__content {max-height: 0;max-width: 0;overflow: hidden;text-align: left;background-color: #f0f8ff;}#sk-container-id-2 div.sk-toggleable__content pre {margin: 0.2em;color: black;border-radius: 0.25em;background-color: #f0f8ff;}#sk-container-id-2 input.sk-toggleable__control:checked~div.sk-toggleable__content {max-height: 200px;max-width: 100%;overflow: auto;}#sk-container-id-2 input.sk-toggleable__control:checked~label.sk-toggleable__label-arrow:before {content: \"▾\";}#sk-container-id-2 div.sk-estimator input.sk-toggleable__control:checked~label.sk-toggleable__label {background-color: #d4ebff;}#sk-container-id-2 div.sk-label input.sk-toggleable__control:checked~label.sk-toggleable__label {background-color: #d4ebff;}#sk-container-id-2 input.sk-hidden--visually {border: 0;clip: rect(1px 1px 1px 1px);clip: rect(1px, 1px, 1px, 1px);height: 1px;margin: -1px;overflow: hidden;padding: 0;position: absolute;width: 1px;}#sk-container-id-2 div.sk-estimator {font-family: monospace;background-color: #f0f8ff;border: 1px dotted black;border-radius: 0.25em;box-sizing: border-box;margin-bottom: 0.5em;}#sk-container-id-2 div.sk-estimator:hover {background-color: #d4ebff;}#sk-container-id-2 div.sk-parallel-item::after {content: \"\";width: 100%;border-bottom: 1px solid gray;flex-grow: 1;}#sk-container-id-2 div.sk-label:hover label.sk-toggleable__label {background-color: #d4ebff;}#sk-container-id-2 div.sk-serial::before {content: \"\";position: absolute;border-left: 1px solid gray;box-sizing: border-box;top: 0;bottom: 0;left: 50%;z-index: 0;}#sk-container-id-2 div.sk-serial {display: flex;flex-direction: column;align-items: center;background-color: white;padding-right: 0.2em;padding-left: 0.2em;position: relative;}#sk-container-id-2 div.sk-item {position: relative;z-index: 1;}#sk-container-id-2 div.sk-parallel {display: flex;align-items: stretch;justify-content: center;background-color: white;position: relative;}#sk-container-id-2 div.sk-item::before, #sk-container-id-2 div.sk-parallel-item::before {content: \"\";position: absolute;border-left: 1px solid gray;box-sizing: border-box;top: 0;bottom: 0;left: 50%;z-index: -1;}#sk-container-id-2 div.sk-parallel-item {display: flex;flex-direction: column;z-index: 1;position: relative;background-color: white;}#sk-container-id-2 div.sk-parallel-item:first-child::after {align-self: flex-end;width: 50%;}#sk-container-id-2 div.sk-parallel-item:last-child::after {align-self: flex-start;width: 50%;}#sk-container-id-2 div.sk-parallel-item:only-child::after {width: 0;}#sk-container-id-2 div.sk-dashed-wrapped {border: 1px dashed gray;margin: 0 0.4em 0.5em 0.4em;box-sizing: border-box;padding-bottom: 0.4em;background-color: white;}#sk-container-id-2 div.sk-label label {font-family: monospace;font-weight: bold;display: inline-block;line-height: 1.2em;}#sk-container-id-2 div.sk-label-container {text-align: center;}#sk-container-id-2 div.sk-container {/* jupyter's `normalize.less` sets `[hidden] { display: none; }` but bootstrap.min.css set `[hidden] { display: none !important; }` so we also need the `!important` here to be able to override the default hidden behavior on the sphinx rendered scikit-learn.org. See: https://github.com/scikit-learn/scikit-learn/issues/21755 */display: inline-block !important;position: relative;}#sk-container-id-2 div.sk-text-repr-fallback {display: none;}</style><div id=\"sk-container-id-2\" class=\"sk-top-container\"><div class=\"sk-text-repr-fallback\"><pre>LogisticRegression(max_iter=10000, solver=&#x27;saga&#x27;)</pre><b>In a Jupyter environment, please rerun this cell to show the HTML representation or trust the notebook. <br />On GitHub, the HTML representation is unable to render, please try loading this page with nbviewer.org.</b></div><div class=\"sk-container\" hidden><div class=\"sk-item\"><div class=\"sk-estimator sk-toggleable\"><input class=\"sk-toggleable__control sk-hidden--visually\" id=\"sk-estimator-id-2\" type=\"checkbox\" checked><label for=\"sk-estimator-id-2\" class=\"sk-toggleable__label sk-toggleable__label-arrow\">LogisticRegression</label><div class=\"sk-toggleable__content\"><pre>LogisticRegression(max_iter=10000, solver=&#x27;saga&#x27;)</pre></div></div></div></div></div>"
      ],
      "text/plain": [
       "LogisticRegression(max_iter=10000, solver='saga')"
      ]
     },
     "execution_count": 46,
     "metadata": {},
     "output_type": "execute_result"
    }
   ],
   "source": [
    "model = LogisticRegression(solver = 'saga', max_iter = 10000) #solver specifies the optimization algorithm, solver is good for large datasets\n",
    "#max_iter determines how long the optimization algorithm will run. These two parameters solve for the error \"underlow encountered in matmul\"\n",
    "model.fit(X_train, y_train)"
   ]
  },
  {
   "cell_type": "code",
   "execution_count": 49,
   "id": "9102eb2a",
   "metadata": {},
   "outputs": [
    {
     "name": "stdout",
     "output_type": "stream",
     "text": [
      "Accuracy: 0.9048333333333334\n",
      "Precision: 0.8889905685377018\n",
      "Recall: 0.9048333333333334\n"
     ]
    }
   ],
   "source": [
    "y_pred = model.predict(X_test)\n",
    "accuracy = accuracy_score(y_test, y_pred)\n",
    "precision = precision_score(y_test, y_pred, average = 'weighted')\n",
    "recall = recall_score(y_test, y_pred, average = 'weighted')\n",
    "#weighted average takes into account class distribution in the dataset\n",
    "print(\"Accuracy:\", accuracy)\n",
    "print(\"Precision:\", precision)\n",
    "print(\"Recall:\", recall)"
   ]
  },
  {
   "cell_type": "code",
   "execution_count": 50,
   "id": "25e4e0cd",
   "metadata": {},
   "outputs": [
    {
     "name": "stdout",
     "output_type": "stream",
     "text": [
      "Confusion Matrix: [[5378   19]\n",
      " [ 552   51]]\n"
     ]
    }
   ],
   "source": [
    "confusion = confusion_matrix(y_test, y_pred)\n",
    "print(\"Confusion Matrix:\", confusion)"
   ]
  },
  {
   "cell_type": "code",
   "execution_count": null,
   "id": "e1376239",
   "metadata": {},
   "outputs": [],
   "source": [
    "#Interpretation: \n",
    "#The model correctly identified 5,378 negative instances (True Negatives).\n",
    "#The model incorrectly identified 19 positive instances as negative (False Positives).\n",
    "#The model incorrectly identified 552 positive instances as negative (False Negatives).\n",
    "#The model correctly identified 51 positive instances (True Positives).\n",
    "#The model performs reasonably given this as well as 90% accuracy, 89% precision, and 90% recall\n",
    "# Accuracy provides an overall assessment of how well the model is performing. Precision provides info on accuracy of positive predictions. Recall allows us to capture all relevant instances."
   ]
  },
  {
   "cell_type": "code",
   "execution_count": 55,
   "id": "78c0d333",
   "metadata": {},
   "outputs": [],
   "source": [
    "# If your labels are not binary (0 and 1), you need to binarize them first\n",
    "lb = LabelBinarizer()\n",
    "y_test_bin = lb.fit_transform(y_test)"
   ]
  },
  {
   "cell_type": "code",
   "execution_count": 58,
   "id": "0fadf455",
   "metadata": {},
   "outputs": [],
   "source": [
    "# Calculate the ROC curve\n",
    "fpr, tpr, thresholds = roc_curve(y_test_bin, y_pred)"
   ]
  },
  {
   "cell_type": "code",
   "execution_count": 59,
   "id": "af5f6751",
   "metadata": {},
   "outputs": [],
   "source": [
    "# Calculate the AUC (Area Under the Curve)\n",
    "roc_auc = roc_auc_score(y_test_bin, y_pred)"
   ]
  },
  {
   "cell_type": "code",
   "execution_count": 60,
   "id": "a9a03033",
   "metadata": {},
   "outputs": [
    {
     "data": {
      "image/png": "[encoded data removed]",
      "text/plain": [
       "<Figure size 432x288 with 1 Axes>"
      ]
     },
     "metadata": {
      "needs_background": "light"
     },
     "output_type": "display_data"
    }
   ],
   "source": [
    "# Plot the ROC curve\n",
    "plt.figure()\n",
    "plt.plot(fpr, tpr, color='darkorange', lw=2, label='ROC curve (area = %0.2f)' % roc_auc)\n",
    "plt.plot([0, 1], [0, 1], color='navy', lw=2, linestyle='--')\n",
    "plt.xlim([0.0, 1.0])\n",
    "plt.ylim([0.0, 1.05])\n",
    "plt.xlabel('False Positive Rate')\n",
    "plt.ylabel('True Positive Rate')\n",
    "plt.title('Receiver Operating Characteristic')\n",
    "plt.legend(loc='lower right')\n",
    "plt.show()\n",
    "#ROC curve shows results slightly beteer than random"
   ]
  },
  {
   "cell_type": "code",
   "execution_count": 61,
   "id": "d2aa62ad",
   "metadata": {},
   "outputs": [],
   "source": [
    "# Get the coefficients\n",
    "coefficients = model.coef_[0]\n",
    "feature_names = X_train.columns"
   ]
  },
  {
   "cell_type": "code",
   "execution_count": 62,
   "id": "fe3d260b",
   "metadata": {},
   "outputs": [
    {
     "name": "stdout",
     "output_type": "stream",
     "text": [
      "                            Feature   Coefficient  Abs_Coefficient\n",
      "2                        credit_age -1.767250e-03     1.767250e-03\n",
      "4                   credit_card_age -1.166789e-03     1.166789e-03\n",
      "3           credit_age_good_account -6.415602e-04     6.415602e-04\n",
      "8     tot_amount_currently_past_due  2.528347e-04     2.528347e-04\n",
      "1                     avg_bal_cards -1.102047e-04     1.102047e-04\n",
      "10            num_card_inq_24_month  8.132788e-05     8.132788e-05\n",
      "9                  num_inq_12_month  5.233587e-05     5.233587e-05\n",
      "5    num_acc_30d_past_due_12_months  1.585558e-05     1.585558e-05\n",
      "13                    uti_open_card  1.066862e-05     1.066862e-05\n",
      "16             pct_card_over_50_uti  8.508904e-06     8.508904e-06\n",
      "15              uti_max_credit_line  8.315702e-06     8.315702e-06\n",
      "14                  pct_over_50_uti  8.182966e-06     8.182966e-06\n",
      "17                          ind_XYZ -5.463084e-06     5.463084e-06\n",
      "21            education_high_school  4.684831e-06     4.684831e-06\n",
      "11                num_card_12_month  4.175485e-06     4.175485e-06\n",
      "7   num_mortgage_currently_past_due  3.628516e-06     3.628516e-06\n",
      "6     num_acc_30d_past_due_6_months  3.021915e-06     3.021915e-06\n",
      "19                education_college -2.764988e-06     2.764988e-06\n",
      "0                       tot_balance -2.500251e-06     2.500251e-06\n",
      "20               education_graduate -1.762314e-06     1.762314e-06\n",
      "18                       rep_income  5.483101e-07     5.483101e-07\n",
      "12               num_auto_ 36_month -3.889468e-07     3.889468e-07\n",
      "22                  education_other -2.656944e-07     2.656944e-07\n"
     ]
    }
   ],
   "source": [
    "# Create a DataFrame to associate feature names with their coefficients\n",
    "feature_coefficients = pd.DataFrame({'Feature': feature_names, 'Coefficient': coefficients})\n",
    "\n",
    "# Sort the features by coefficient magnitude (absolute value)\n",
    "feature_coefficients['Abs_Coefficient'] = abs(feature_coefficients['Coefficient'])\n",
    "feature_coefficients = feature_coefficients.sort_values(by='Abs_Coefficient', ascending=False)\n",
    "\n",
    "# Print or visualize the sorted feature importances\n",
    "print(feature_coefficients)\n",
    "\n",
    "#Interpretation: feature importance for logistic regression assumes linear relationship between y and x's\n",
    "#sign for each respective feature in coefficient column determines if the feature positively or negatively impacts y (Def_ind)\n",
    "#credit_age has the largest magnitude impact of if someone defaults on a loan or not, the next most important features are credit_card_age and credit_age_good_account"
   ]
  },
  {
   "cell_type": "code",
   "execution_count": 26,
   "id": "bcbe968e",
   "metadata": {},
   "outputs": [],
   "source": [
    "df2 = pd.read_csv('/Users/colejennings/Downloads/mobile_phone_prices.csv')"
   ]
  },
  {
   "cell_type": "code",
   "execution_count": 27,
   "id": "7966a2b5",
   "metadata": {},
   "outputs": [
    {
     "data": {
      "text/html": [
       "<div>\n",
       "<style scoped>\n",
       "    .dataframe tbody tr th:only-of-type {\n",
       "        vertical-align: middle;\n",
       "    }\n",
       "\n",
       "    .dataframe tbody tr th {\n",
       "        vertical-align: top;\n",
       "    }\n",
       "\n",
       "    .dataframe thead th {\n",
       "        text-align: right;\n",
       "    }\n",
       "</style>\n",
       "<table border=\"1\" class=\"dataframe\">\n",
       "  <thead>\n",
       "    <tr style=\"text-align: right;\">\n",
       "      <th></th>\n",
       "      <th>battery_power</th>\n",
       "      <th>bluetooth</th>\n",
       "      <th>clock_speed</th>\n",
       "      <th>dual_sim</th>\n",
       "      <th>front_camera</th>\n",
       "      <th>four_g</th>\n",
       "      <th>int_memory</th>\n",
       "      <th>mobile_depth</th>\n",
       "      <th>mobile_weight</th>\n",
       "      <th>number_of cores</th>\n",
       "      <th>...</th>\n",
       "      <th>px_height</th>\n",
       "      <th>px_width</th>\n",
       "      <th>ram</th>\n",
       "      <th>sc_h</th>\n",
       "      <th>sc_w</th>\n",
       "      <th>talk_time</th>\n",
       "      <th>three_g</th>\n",
       "      <th>touch_screen</th>\n",
       "      <th>wifi</th>\n",
       "      <th>price_range</th>\n",
       "    </tr>\n",
       "  </thead>\n",
       "  <tbody>\n",
       "    <tr>\n",
       "      <th>0</th>\n",
       "      <td>842</td>\n",
       "      <td>0</td>\n",
       "      <td>2.2</td>\n",
       "      <td>0</td>\n",
       "      <td>1</td>\n",
       "      <td>0</td>\n",
       "      <td>7</td>\n",
       "      <td>0.6</td>\n",
       "      <td>188</td>\n",
       "      <td>2</td>\n",
       "      <td>...</td>\n",
       "      <td>20</td>\n",
       "      <td>756</td>\n",
       "      <td>2549</td>\n",
       "      <td>9</td>\n",
       "      <td>7</td>\n",
       "      <td>19</td>\n",
       "      <td>0</td>\n",
       "      <td>0</td>\n",
       "      <td>1</td>\n",
       "      <td>1</td>\n",
       "    </tr>\n",
       "    <tr>\n",
       "      <th>1</th>\n",
       "      <td>1021</td>\n",
       "      <td>1</td>\n",
       "      <td>0.5</td>\n",
       "      <td>1</td>\n",
       "      <td>0</td>\n",
       "      <td>1</td>\n",
       "      <td>53</td>\n",
       "      <td>0.7</td>\n",
       "      <td>136</td>\n",
       "      <td>3</td>\n",
       "      <td>...</td>\n",
       "      <td>905</td>\n",
       "      <td>1988</td>\n",
       "      <td>2631</td>\n",
       "      <td>17</td>\n",
       "      <td>3</td>\n",
       "      <td>7</td>\n",
       "      <td>1</td>\n",
       "      <td>1</td>\n",
       "      <td>0</td>\n",
       "      <td>2</td>\n",
       "    </tr>\n",
       "    <tr>\n",
       "      <th>2</th>\n",
       "      <td>563</td>\n",
       "      <td>1</td>\n",
       "      <td>0.5</td>\n",
       "      <td>1</td>\n",
       "      <td>2</td>\n",
       "      <td>1</td>\n",
       "      <td>41</td>\n",
       "      <td>0.9</td>\n",
       "      <td>145</td>\n",
       "      <td>5</td>\n",
       "      <td>...</td>\n",
       "      <td>1263</td>\n",
       "      <td>1716</td>\n",
       "      <td>2603</td>\n",
       "      <td>11</td>\n",
       "      <td>2</td>\n",
       "      <td>9</td>\n",
       "      <td>1</td>\n",
       "      <td>1</td>\n",
       "      <td>0</td>\n",
       "      <td>2</td>\n",
       "    </tr>\n",
       "    <tr>\n",
       "      <th>3</th>\n",
       "      <td>615</td>\n",
       "      <td>1</td>\n",
       "      <td>2.5</td>\n",
       "      <td>0</td>\n",
       "      <td>0</td>\n",
       "      <td>0</td>\n",
       "      <td>10</td>\n",
       "      <td>0.8</td>\n",
       "      <td>131</td>\n",
       "      <td>6</td>\n",
       "      <td>...</td>\n",
       "      <td>1216</td>\n",
       "      <td>1786</td>\n",
       "      <td>2769</td>\n",
       "      <td>16</td>\n",
       "      <td>8</td>\n",
       "      <td>11</td>\n",
       "      <td>1</td>\n",
       "      <td>0</td>\n",
       "      <td>0</td>\n",
       "      <td>2</td>\n",
       "    </tr>\n",
       "    <tr>\n",
       "      <th>4</th>\n",
       "      <td>1821</td>\n",
       "      <td>1</td>\n",
       "      <td>1.2</td>\n",
       "      <td>0</td>\n",
       "      <td>13</td>\n",
       "      <td>1</td>\n",
       "      <td>44</td>\n",
       "      <td>0.6</td>\n",
       "      <td>141</td>\n",
       "      <td>2</td>\n",
       "      <td>...</td>\n",
       "      <td>1208</td>\n",
       "      <td>1212</td>\n",
       "      <td>1411</td>\n",
       "      <td>8</td>\n",
       "      <td>2</td>\n",
       "      <td>15</td>\n",
       "      <td>1</td>\n",
       "      <td>1</td>\n",
       "      <td>0</td>\n",
       "      <td>1</td>\n",
       "    </tr>\n",
       "  </tbody>\n",
       "</table>\n",
       "<p>5 rows × 21 columns</p>\n",
       "</div>"
      ],
      "text/plain": [
       "   battery_power  bluetooth  clock_speed  dual_sim  front_camera  four_g  \\\n",
       "0            842          0          2.2         0             1       0   \n",
       "1           1021          1          0.5         1             0       1   \n",
       "2            563          1          0.5         1             2       1   \n",
       "3            615          1          2.5         0             0       0   \n",
       "4           1821          1          1.2         0            13       1   \n",
       "\n",
       "   int_memory  mobile_depth  mobile_weight  number_of cores  ...  px_height  \\\n",
       "0           7           0.6            188                2  ...         20   \n",
       "1          53           0.7            136                3  ...        905   \n",
       "2          41           0.9            145                5  ...       1263   \n",
       "3          10           0.8            131                6  ...       1216   \n",
       "4          44           0.6            141                2  ...       1208   \n",
       "\n",
       "   px_width   ram  sc_h  sc_w  talk_time  three_g  touch_screen  wifi  \\\n",
       "0       756  2549     9     7         19        0             0     1   \n",
       "1      1988  2631    17     3          7        1             1     0   \n",
       "2      1716  2603    11     2          9        1             1     0   \n",
       "3      1786  2769    16     8         11        1             0     0   \n",
       "4      1212  1411     8     2         15        1             1     0   \n",
       "\n",
       "   price_range  \n",
       "0            1  \n",
       "1            2  \n",
       "2            2  \n",
       "3            2  \n",
       "4            1  \n",
       "\n",
       "[5 rows x 21 columns]"
      ]
     },
     "execution_count": 27,
     "metadata": {},
     "output_type": "execute_result"
    }
   ],
   "source": [
    "df2.head()"
   ]
  },
  {
   "cell_type": "code",
   "execution_count": 28,
   "id": "fc9cbefd",
   "metadata": {},
   "outputs": [
    {
     "data": {
      "text/plain": [
       "(Index(['battery_power', 'bluetooth', 'clock_speed', 'dual_sim', 'front_camera',\n",
       "        'four_g', 'int_memory', 'mobile_depth', 'mobile_weight',\n",
       "        'number_of cores', 'pc', 'px_height', 'px_width', 'ram', 'sc_h', 'sc_w',\n",
       "        'talk_time', 'three_g', 'touch_screen', 'wifi', 'price_range'],\n",
       "       dtype='object'),\n",
       " (2000, 21),\n",
       " battery_power        int64\n",
       " bluetooth            int64\n",
       " clock_speed        float64\n",
       " dual_sim             int64\n",
       " front_camera         int64\n",
       " four_g               int64\n",
       " int_memory           int64\n",
       " mobile_depth       float64\n",
       " mobile_weight        int64\n",
       " number_of cores      int64\n",
       " pc                   int64\n",
       " px_height            int64\n",
       " px_width             int64\n",
       " ram                  int64\n",
       " sc_h                 int64\n",
       " sc_w                 int64\n",
       " talk_time            int64\n",
       " three_g              int64\n",
       " touch_screen         int64\n",
       " wifi                 int64\n",
       " price_range          int64\n",
       " dtype: object)"
      ]
     },
     "execution_count": 28,
     "metadata": {},
     "output_type": "execute_result"
    }
   ],
   "source": [
    "df2.columns, df2.shape, df2.dtypes"
   ]
  },
  {
   "cell_type": "code",
   "execution_count": 29,
   "id": "bbab156f",
   "metadata": {},
   "outputs": [
    {
     "data": {
      "text/plain": [
       "battery_power      0\n",
       "bluetooth          0\n",
       "clock_speed        0\n",
       "dual_sim           0\n",
       "front_camera       0\n",
       "four_g             0\n",
       "int_memory         0\n",
       "mobile_depth       0\n",
       "mobile_weight      0\n",
       "number_of cores    0\n",
       "pc                 0\n",
       "px_height          0\n",
       "px_width           0\n",
       "ram                0\n",
       "sc_h               0\n",
       "sc_w               0\n",
       "talk_time          0\n",
       "three_g            0\n",
       "touch_screen       0\n",
       "wifi               0\n",
       "price_range        0\n",
       "dtype: int64"
      ]
     },
     "execution_count": 29,
     "metadata": {},
     "output_type": "execute_result"
    }
   ],
   "source": [
    "df2.isna().sum()"
   ]
  },
  {
   "cell_type": "code",
   "execution_count": 30,
   "id": "6650f26f",
   "metadata": {},
   "outputs": [
    {
     "data": {
      "application/vnd.jupyter.widget-view+json": {
       "model_id": "4ba3a86a48524e42b4991d18bb2527a8",
       "version_major": 2,
       "version_minor": 0
      },
      "text/plain": [
       "                                             |      | [  0%]   00:00 -> (? left)"
      ]
     },
     "metadata": {},
     "output_type": "display_data"
    }
   ],
   "source": [
    "report2 = sv.analyze(df2)"
   ]
  },
  {
   "cell_type": "code",
   "execution_count": 31,
   "id": "daa4694c",
   "metadata": {},
   "outputs": [
    {
     "name": "stdout",
     "output_type": "stream",
     "text": [
      "Report SWEETVIZ_REPORT.html was generated! NOTEBOOK/COLAB USERS: the web browser MAY not pop up, regardless, the report IS saved in your notebook/colab files.\n"
     ]
    }
   ],
   "source": [
    "report2.show_html()"
   ]
  },
  {
   "cell_type": "code",
   "execution_count": null,
   "id": "448205aa",
   "metadata": {},
   "outputs": [],
   "source": [
    "#sc_w and px_height and both right-skewed. prince_range and ram might experience multicollinearity as they have a correlation ratio of 0.92."
   ]
  },
  {
   "cell_type": "code",
   "execution_count": 33,
   "id": "448ed29f",
   "metadata": {},
   "outputs": [],
   "source": [
    "y2 = df2[\"price_range\"]"
   ]
  },
  {
   "cell_type": "code",
   "execution_count": 34,
   "id": "f9edc7d6",
   "metadata": {},
   "outputs": [],
   "source": [
    "X2 = df2.loc[:, df2.columns != \"price_range\"] # I want all columns except the price_range column which is the response variable"
   ]
  },
  {
   "cell_type": "code",
   "execution_count": 35,
   "id": "a2fc903a",
   "metadata": {},
   "outputs": [],
   "source": [
    "X2_train, X2_test, y2_train, y2_test = train_test_split(X2, y2, test_size=0.3, random_state=4)"
   ]
  },
  {
   "cell_type": "code",
   "execution_count": 37,
   "id": "9ac06b21",
   "metadata": {},
   "outputs": [],
   "source": [
    "model2 = LinearDiscriminantAnalysis()"
   ]
  },
  {
   "cell_type": "code",
   "execution_count": 38,
   "id": "f374e0a2",
   "metadata": {},
   "outputs": [
    {
     "data": {
      "text/html": [
       "<style>#sk-container-id-1 {color: black;}#sk-container-id-1 pre{padding: 0;}#sk-container-id-1 div.sk-toggleable {background-color: white;}#sk-container-id-1 label.sk-toggleable__label {cursor: pointer;display: block;width: 100%;margin-bottom: 0;padding: 0.3em;box-sizing: border-box;text-align: center;}#sk-container-id-1 label.sk-toggleable__label-arrow:before {content: \"▸\";float: left;margin-right: 0.25em;color: #696969;}#sk-container-id-1 label.sk-toggleable__label-arrow:hover:before {color: black;}#sk-container-id-1 div.sk-estimator:hover label.sk-toggleable__label-arrow:before {color: black;}#sk-container-id-1 div.sk-toggleable__content {max-height: 0;max-width: 0;overflow: hidden;text-align: left;background-color: #f0f8ff;}#sk-container-id-1 div.sk-toggleable__content pre {margin: 0.2em;color: black;border-radius: 0.25em;background-color: #f0f8ff;}#sk-container-id-1 input.sk-toggleable__control:checked~div.sk-toggleable__content {max-height: 200px;max-width: 100%;overflow: auto;}#sk-container-id-1 input.sk-toggleable__control:checked~label.sk-toggleable__label-arrow:before {content: \"▾\";}#sk-container-id-1 div.sk-estimator input.sk-toggleable__control:checked~label.sk-toggleable__label {background-color: #d4ebff;}#sk-container-id-1 div.sk-label input.sk-toggleable__control:checked~label.sk-toggleable__label {background-color: #d4ebff;}#sk-container-id-1 input.sk-hidden--visually {border: 0;clip: rect(1px 1px 1px 1px);clip: rect(1px, 1px, 1px, 1px);height: 1px;margin: -1px;overflow: hidden;padding: 0;position: absolute;width: 1px;}#sk-container-id-1 div.sk-estimator {font-family: monospace;background-color: #f0f8ff;border: 1px dotted black;border-radius: 0.25em;box-sizing: border-box;margin-bottom: 0.5em;}#sk-container-id-1 div.sk-estimator:hover {background-color: #d4ebff;}#sk-container-id-1 div.sk-parallel-item::after {content: \"\";width: 100%;border-bottom: 1px solid gray;flex-grow: 1;}#sk-container-id-1 div.sk-label:hover label.sk-toggleable__label {background-color: #d4ebff;}#sk-container-id-1 div.sk-serial::before {content: \"\";position: absolute;border-left: 1px solid gray;box-sizing: border-box;top: 0;bottom: 0;left: 50%;z-index: 0;}#sk-container-id-1 div.sk-serial {display: flex;flex-direction: column;align-items: center;background-color: white;padding-right: 0.2em;padding-left: 0.2em;position: relative;}#sk-container-id-1 div.sk-item {position: relative;z-index: 1;}#sk-container-id-1 div.sk-parallel {display: flex;align-items: stretch;justify-content: center;background-color: white;position: relative;}#sk-container-id-1 div.sk-item::before, #sk-container-id-1 div.sk-parallel-item::before {content: \"\";position: absolute;border-left: 1px solid gray;box-sizing: border-box;top: 0;bottom: 0;left: 50%;z-index: -1;}#sk-container-id-1 div.sk-parallel-item {display: flex;flex-direction: column;z-index: 1;position: relative;background-color: white;}#sk-container-id-1 div.sk-parallel-item:first-child::after {align-self: flex-end;width: 50%;}#sk-container-id-1 div.sk-parallel-item:last-child::after {align-self: flex-start;width: 50%;}#sk-container-id-1 div.sk-parallel-item:only-child::after {width: 0;}#sk-container-id-1 div.sk-dashed-wrapped {border: 1px dashed gray;margin: 0 0.4em 0.5em 0.4em;box-sizing: border-box;padding-bottom: 0.4em;background-color: white;}#sk-container-id-1 div.sk-label label {font-family: monospace;font-weight: bold;display: inline-block;line-height: 1.2em;}#sk-container-id-1 div.sk-label-container {text-align: center;}#sk-container-id-1 div.sk-container {/* jupyter's `normalize.less` sets `[hidden] { display: none; }` but bootstrap.min.css set `[hidden] { display: none !important; }` so we also need the `!important` here to be able to override the default hidden behavior on the sphinx rendered scikit-learn.org. See: https://github.com/scikit-learn/scikit-learn/issues/21755 */display: inline-block !important;position: relative;}#sk-container-id-1 div.sk-text-repr-fallback {display: none;}</style><div id=\"sk-container-id-1\" class=\"sk-top-container\"><div class=\"sk-text-repr-fallback\"><pre>LinearDiscriminantAnalysis()</pre><b>In a Jupyter environment, please rerun this cell to show the HTML representation or trust the notebook. <br />On GitHub, the HTML representation is unable to render, please try loading this page with nbviewer.org.</b></div><div class=\"sk-container\" hidden><div class=\"sk-item\"><div class=\"sk-estimator sk-toggleable\"><input class=\"sk-toggleable__control sk-hidden--visually\" id=\"sk-estimator-id-1\" type=\"checkbox\" checked><label for=\"sk-estimator-id-1\" class=\"sk-toggleable__label sk-toggleable__label-arrow\">LinearDiscriminantAnalysis</label><div class=\"sk-toggleable__content\"><pre>LinearDiscriminantAnalysis()</pre></div></div></div></div></div>"
      ],
      "text/plain": [
       "LinearDiscriminantAnalysis()"
      ]
     },
     "execution_count": 38,
     "metadata": {},
     "output_type": "execute_result"
    }
   ],
   "source": [
    "model2.fit(X2_train, y2_train)"
   ]
  },
  {
   "cell_type": "code",
   "execution_count": 39,
   "id": "dc2432e9",
   "metadata": {},
   "outputs": [],
   "source": [
    "y2_pred = model2.predict(X2_test)"
   ]
  },
  {
   "cell_type": "code",
   "execution_count": 40,
   "id": "fa74d1b9",
   "metadata": {},
   "outputs": [
    {
     "data": {
      "text/plain": [
       "array([[-7.65161169e-03,  2.59792074e-01,  3.26192847e-01,\n",
       "         4.64856465e-01, -8.95590189e-03,  3.51115212e-01,\n",
       "        -1.26551451e-02, -5.91325173e-02,  1.42216502e-02,\n",
       "        -3.53471102e-02,  3.76865625e-05, -4.20010978e-03,\n",
       "        -4.12743848e-03, -1.39934529e-02, -3.66168078e-02,\n",
       "        -1.33650901e-02, -4.40457605e-02, -5.74067096e-01,\n",
       "        -8.67295175e-02,  1.35271752e-01],\n",
       "       [-2.04697280e-03,  1.85206475e-02,  8.18793541e-02,\n",
       "         1.66776594e-01, -6.94004767e-03,  1.62234748e-02,\n",
       "        -5.18561420e-03,  2.87873357e-01,  3.65530738e-03,\n",
       "        -4.74247317e-02,  7.65983434e-03, -1.00641458e-03,\n",
       "        -1.18153356e-03, -4.19128433e-03, -1.30009178e-03,\n",
       "        -1.08356362e-02, -1.86387942e-03, -1.71261604e-01,\n",
       "         4.13829960e-02,  1.01557652e-01],\n",
       "       [ 2.05437170e-03, -1.46916259e-01, -1.10545696e-01,\n",
       "        -2.34661052e-01,  1.55072000e-02, -1.97035163e-01,\n",
       "         2.04153386e-03, -1.21629106e-01, -1.74650694e-03,\n",
       "         4.83145041e-02, -2.63946599e-03,  1.29914420e-03,\n",
       "         1.16888404e-03,  4.49366101e-03, -1.90913842e-02,\n",
       "         1.12323549e-02,  1.12408078e-02,  1.84579262e-01,\n",
       "        -6.09466695e-02, -3.22139222e-02],\n",
       "       [ 7.91292617e-03, -1.37671701e-01, -3.08162726e-01,\n",
       "        -4.09577520e-01,  2.58114533e-04, -1.78812356e-01,\n",
       "         1.62963519e-02, -1.01109799e-01, -1.67019433e-02,\n",
       "         3.44510910e-02, -4.98969207e-03,  4.04854148e-03,\n",
       "         4.28313903e-03,  1.41580416e-02,  5.92813124e-02,\n",
       "         1.31914727e-02,  3.62072011e-02,  5.79896135e-01,\n",
       "         1.12097622e-01, -2.09700225e-01]])"
      ]
     },
     "execution_count": 40,
     "metadata": {},
     "output_type": "execute_result"
    }
   ],
   "source": [
    "model2.coef_"
   ]
  },
  {
   "cell_type": "code",
   "execution_count": 45,
   "id": "59af6901",
   "metadata": {},
   "outputs": [
    {
     "data": {
      "text/plain": [
       "1    0.25\n",
       "2    0.25\n",
       "3    0.25\n",
       "0    0.25\n",
       "Name: price_range, dtype: float64"
      ]
     },
     "execution_count": 45,
     "metadata": {},
     "output_type": "execute_result"
    }
   ],
   "source": [
    "df2['price_range'].value_counts(normalize = True)\n",
    "#dataset is balanced"
   ]
  },
  {
   "cell_type": "code",
   "execution_count": 44,
   "id": "c9a37d33",
   "metadata": {},
   "outputs": [
    {
     "name": "stdout",
     "output_type": "stream",
     "text": [
      "Accuracy: 0.9416666666666667\n",
      "Precision: 0.9437895955183586\n",
      "Recall: 0.9416666666666667\n",
      "Confusion Matrix: [[136   6   0   0]\n",
      " [  3 144   9   0]\n",
      " [  0   8 137   0]\n",
      " [  0   0   9 148]]\n"
     ]
    }
   ],
   "source": [
    "accuracy2 = accuracy_score(y2_test, y2_pred)\n",
    "precision2 = precision_score(y2_test, y2_pred, average = 'weighted')\n",
    "recall2 = recall_score(y2_test, y2_pred, average = 'weighted')\n",
    "confusion2 = confusion_matrix(y2_test, y2_pred)\n",
    "print(\"Accuracy:\", accuracy2)\n",
    "print(\"Precision:\", precision2)\n",
    "print(\"Recall:\", recall2)\n",
    "print(\"Confusion Matrix:\", confusion2)"
   ]
  },
  {
   "cell_type": "code",
   "execution_count": null,
   "id": "b7bb03a6",
   "metadata": {},
   "outputs": [],
   "source": [
    "#Interpretation of the confusion matrix and other evaluators: The diagonal (136, 144, 137, and 148) are the correctly predicted True Positives for each class.\n",
    "# The 6 represents fale positives for class 1. The # of TPs is high compared to the incorrectly predicted. Accuracy, recall and precision are all 94% making the model high performing.\n",
    "# Accuracy provides an overall assessment of how well the model is performing. Precision provides info on accuracy of positive predictions. Recall allows us to capture all relevant instances."
   ]
  }
 ],
 "metadata": {
  "kernelspec": {
   "display_name": "Python 3 (ipykernel)",
   "language": "python",
   "name": "python3"
  },
  "language_info": {
   "codemirror_mode": {
    "name": "ipython",
    "version": 3
   },
   "file_extension": ".py",
   "mimetype": "text/x-python",
   "name": "python",
   "nbconvert_exporter": "python",
   "pygments_lexer": "ipython3",
   "version": "3.9.12"
  }
 },
 "nbformat": 4,
 "nbformat_minor": 5
}
