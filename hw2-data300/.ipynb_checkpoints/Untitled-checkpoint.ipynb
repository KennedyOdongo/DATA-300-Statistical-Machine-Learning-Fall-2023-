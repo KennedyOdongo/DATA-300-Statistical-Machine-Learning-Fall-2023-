{
 "cells": [
  {
   "cell_type": "code",
   "execution_count": 1,
   "id": "5f3f2bd2",
   "metadata": {},
   "outputs": [
    {
     "name": "stderr",
     "output_type": "stream",
     "text": [
      "/var/folders/vw/dbzntfg96b58pmmcc2cxykdh0000gn/T/ipykernel_1144/2858989355.py:6: DeprecationWarning: `import pandas_profiling` is going to be deprecated by April 1st. Please use `import ydata_profiling` instead.\n",
      "  import pandas_profiling as pp # v 3.6.3\n"
     ]
    }
   ],
   "source": [
    "import pandas as pd # v 1.5.3\n",
    "import numpy as np # v 1.21.5\n",
    "import pmdarima as pm # v 1.8.5\n",
    "import statsmodels.api as sm # v 0.13.5\n",
    "import matplotlib.pyplot as plt # 3.6.3\n",
    "import pandas_profiling as pp # v 3.6.3\n",
    "import sweetviz as sv # 2.2.1\n",
    "import warnings as ww\n",
    "import statsmodels.tsa.stattools as stattools  # v 0.13.5\n",
    "\n",
    "from statsmodels.tsa.stattools import adfuller # v 0.13.5\n",
    "from statsmodels.graphics.tsaplots import plot_acf, plot_pacf # v 0.13.5\n",
    "from statsmodels.tsa.arima_model import ARIMA # v 0.13.5\n",
    "\n",
    "from sklearn.metrics import mean_absolute_error\n",
    "from sklearn.metrics import mean_squared_error\n",
    "from sklearn.metrics import mean_absolute_percentage_error\n"
   ]
  },
  {
   "cell_type": "code",
   "execution_count": 3,
   "id": "87f07e9e",
   "metadata": {},
   "outputs": [],
   "source": [
    "electric_df = pd.read_csv(r\"/Users/margaret06/Documents/GitHub/hw2-data300/data/Electric_Production.csv\")"
   ]
  },
  {
   "cell_type": "code",
   "execution_count": 4,
   "id": "432a3fe4",
   "metadata": {},
   "outputs": [],
   "source": [
    "electric_df[\"DATE\"] = pd.to_datetime(electric_df[\"DATE\"]) # Python can now read this column as a date column."
   ]
  },
  {
   "cell_type": "code",
   "execution_count": 6,
   "id": "5efc5563",
   "metadata": {},
   "outputs": [],
   "source": [
    "electric_df = electric_df.sort_values(\"DATE\")"
   ]
  },
  {
   "cell_type": "code",
   "execution_count": null,
   "id": "8b43ac58",
   "metadata": {},
   "outputs": [],
   "source": []
  }
 ],
 "metadata": {
  "kernelspec": {
   "display_name": "Python 3 (ipykernel)",
   "language": "python",
   "name": "python3"
  },
  "language_info": {
   "codemirror_mode": {
    "name": "ipython",
    "version": 3
   },
   "file_extension": ".py",
   "mimetype": "text/x-python",
   "name": "python",
   "nbconvert_exporter": "python",
   "pygments_lexer": "ipython3",
   "version": "3.9.13"
  }
 },
 "nbformat": 4,
 "nbformat_minor": 5
}
